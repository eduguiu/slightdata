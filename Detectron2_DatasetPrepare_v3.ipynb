{
  "nbformat": 4,
  "nbformat_minor": 0,
  "metadata": {
    "colab": {
      "name": "Detectron2_DatasetPrepare_v3.ipynb",
      "provenance": [],
      "collapsed_sections": [
        "Hes1hd1aso5y"
      ],
      "toc_visible": true,
      "mount_file_id": "16Pf2JK_kgCaeDD2abRO8lBBmL7180Wh8",
      "authorship_tag": "ABX9TyPEqs0XhOwm1x6VWph9F1Zr",
      "include_colab_link": true
    },
    "kernelspec": {
      "name": "python3",
      "display_name": "Python 3"
    }
  },
  "cells": [
    {
      "cell_type": "markdown",
      "metadata": {
        "id": "view-in-github",
        "colab_type": "text"
      },
      "source": [
        "<a href=\"https://colab.research.google.com/github/eduguiu/slightdata/blob/master/Detectron2_DatasetPrepare_v3.ipynb\" target=\"_parent\"><img src=\"https://colab.research.google.com/assets/colab-badge.svg\" alt=\"Open In Colab\"/></a>"
      ]
    },
    {
      "cell_type": "markdown",
      "metadata": {
        "id": "uJ362oBq26iO",
        "colab_type": "text"
      },
      "source": [
        "# Dataset Preparation for Detectron2\n",
        "\n",
        "This Notebooks performs the following actions: \n",
        "- get [OIDC v4](https://github.com/EscVM/OIDv4_ToolKit)\n",
        "- download a given class (possibly many)\n",
        "- Generate a Folder with a csv explanatory file and many images that will be loaded onto a dictionaries : MetadataCatalog /  DatasetCatalog \n",
        "\n",
        "The treemap is as follows: \n",
        "- Dataset \n",
        "    - **train_folder (.jpg images within)**\n",
        "    - train_labels.csv\n",
        "    - **test_folder (.jpg images within)**\n",
        "    - test_labels.csv\n",
        "\n"
      ]
    },
    {
      "cell_type": "markdown",
      "metadata": {
        "id": "jzRqLjw0n8oq",
        "colab_type": "text"
      },
      "source": [
        "## Libraries"
      ]
    },
    {
      "cell_type": "code",
      "metadata": {
        "id": "0lw04qsXfbQn",
        "colab_type": "code",
        "colab": {}
      },
      "source": [
        "import pandas as pd\n",
        "import numpy as np \n",
        "import os\n",
        "import cv2\n",
        "import os\n",
        "from pathlib import Path\n",
        "import sys\n",
        "import json\n",
        "from google.colab.patches import cv2_imshow"
      ],
      "execution_count": 0,
      "outputs": []
    },
    {
      "cell_type": "markdown",
      "metadata": {
        "id": "2aMjRtsvoCf7",
        "colab_type": "text"
      },
      "source": [
        "## Custom Functions"
      ]
    },
    {
      "cell_type": "code",
      "metadata": {
        "id": "1M0ThgTl4VCh",
        "colab_type": "code",
        "cellView": "both",
        "colab": {}
      },
      "source": [
        "def createDFP(direct, categ='Street_light'):\n",
        "    '''\n",
        "    this function generates the DataFrame of all the images within, returns img_ix, filename, Height and Width.\n",
        "    the input is a working str with the folder path containing images. \n",
        "    Needs to input directory (direct) where images are, and class (categ=)\n",
        "    ver 2.0\n",
        "    '''\n",
        "    LST=[]\n",
        "    ls=[]\n",
        "    # list all the files present in the folder Direct\n",
        "    ls = sorted([k for k in os.listdir(direct) if 'jpg' in k])\n",
        "    for i in range(len(ls)): \n",
        "        fn = os.path.join(direct + '/' + ls[i])\n",
        "        im = cv2.imread(fn)\n",
        "        h,w,_ = im.shape\n",
        "        dictL = {'idx_img':i+1,\n",
        "                'ImageID': ls[i].rstrip(\".jpg\"),\n",
        "                 'height': h,\n",
        "                 'width': w,\n",
        "                 'class': categ}\n",
        "        LST.append(dictL)\n",
        "    dfp= pd.DataFrame(LST)\n",
        "    return dfp"
      ],
      "execution_count": 0,
      "outputs": []
    },
    {
      "cell_type": "code",
      "metadata": {
        "id": "0jZdEC0QA-nv",
        "colab_type": "code",
        "colab": {}
      },
      "source": [
        "# second version of the merge DF \n",
        "def Merge_DF(dfa, dfp):\n",
        "    ''' pass on the df Annotations and the df Pictures in folder. \n",
        "    this function gives back a merged df with all the annotations to the present \n",
        "    pictures with id, Height, width, and real postion of BBOX\n",
        "    '''\n",
        "    df_F = dfa.merge(dfp[['ImageID', 'idx_img', 'height', 'width', 'class']],\n",
        "                  on = 'ImageID' ,\n",
        "                  how = 'inner', \n",
        "                  suffixes=(\"_Ann\", \"_Pic\"))\n",
        "    # the index is reset to start at position 1. \n",
        "    df_F.index=range(1, len(df_F)+1)\n",
        "\n",
        "    df_F['xmin']= (df_F['XMin'] * df_F['width']).astype(int)\n",
        "    df_F['xmax']= (df_F['XMax'] * df_F['width']).astype(int)\n",
        "    df_F['ymin']= (df_F['YMin'] * df_F['height']).astype(int)\n",
        "    df_F['ymax']= (df_F['YMax'] * df_F['height']).astype(int)\n",
        "\n",
        "    # drop useless columns\n",
        "    df_F.drop(columns=['Confidence', 'XMin', 'YMin', 'XMax', 'YMax'], inplace=True)\n",
        "    \n",
        "    return df_F"
      ],
      "execution_count": 0,
      "outputs": []
    },
    {
      "cell_type": "markdown",
      "metadata": {
        "id": "kfMDA-wMz3us",
        "colab_type": "text"
      },
      "source": [
        "# **GetCSVData**"
      ]
    },
    {
      "cell_type": "markdown",
      "metadata": {
        "id": "SsBk4YOVoV3-",
        "colab_type": "text"
      },
      "source": [
        "## Define parameters\n",
        "\n",
        "Folders, classes etc.."
      ]
    },
    {
      "cell_type": "code",
      "metadata": {
        "id": "uVVqrxL0oVRv",
        "colab_type": "code",
        "colab": {
          "base_uri": "https://localhost:8080/",
          "height": 35
        },
        "outputId": "0b32b398-1386-4ebc-9de6-0ee650b60709"
      },
      "source": [
        "ORIGIN_PATH='/content/drive/My Drive/RCNN/OIDCv4_v1/Dataset/test/Street light'\n",
        "DESTINATION_PATH = '/content/drive/My Drive/RCNN/'\n",
        "\n",
        "classes = ['Street_light']\n",
        "FLAVOUR = 'test' # can be 'train', 'test' of 'validation'\n",
        "FOLDER_PICS = '/content/drive/My Drive/RCNN/slight_red/' + FLAVOUR + '/images'\n",
        "FOLDER_OUT = '/content/drive/My Drive/RCNN/slight_red/'\n",
        "FOLDER_OUT"
      ],
      "execution_count": 30,
      "outputs": [
        {
          "output_type": "execute_result",
          "data": {
            "text/plain": [
              "'/content/drive/My Drive/RCNN/slight_red/'"
            ]
          },
          "metadata": {
            "tags": []
          },
          "execution_count": 30
        }
      ]
    },
    {
      "cell_type": "markdown",
      "metadata": {
        "id": "fa570FqC1o8m",
        "colab_type": "text"
      },
      "source": [
        "## DFA definition"
      ]
    },
    {
      "cell_type": "markdown",
      "metadata": {
        "id": "T8hSFiM1-6J-",
        "colab_type": "text"
      },
      "source": [
        "Data from the 1,7 M annotations from OIDCv4 is loaded onto a DataFrame. "
      ]
    },
    {
      "cell_type": "code",
      "metadata": {
        "id": "Mk_9JS7k0HD7",
        "colab_type": "code",
        "outputId": "f510f1bb-d99c-4033-efd3-045a5c9f616f",
        "colab": {
          "base_uri": "https://localhost:8080/",
          "height": 226
        }
      },
      "source": [
        "df= pd.read_csv('/content/drive/My Drive/RCNN/OIDCv4_v1/csv_folder/'+ FLAVOUR+'-annotations-bbox.csv') # nrows=10000)\n",
        "df.head()"
      ],
      "execution_count": 31,
      "outputs": [
        {
          "output_type": "execute_result",
          "data": {
            "text/html": [
              "<div>\n",
              "<style scoped>\n",
              "    .dataframe tbody tr th:only-of-type {\n",
              "        vertical-align: middle;\n",
              "    }\n",
              "\n",
              "    .dataframe tbody tr th {\n",
              "        vertical-align: top;\n",
              "    }\n",
              "\n",
              "    .dataframe thead th {\n",
              "        text-align: right;\n",
              "    }\n",
              "</style>\n",
              "<table border=\"1\" class=\"dataframe\">\n",
              "  <thead>\n",
              "    <tr style=\"text-align: right;\">\n",
              "      <th></th>\n",
              "      <th>ImageID</th>\n",
              "      <th>Source</th>\n",
              "      <th>LabelName</th>\n",
              "      <th>Confidence</th>\n",
              "      <th>XMin</th>\n",
              "      <th>XMax</th>\n",
              "      <th>YMin</th>\n",
              "      <th>YMax</th>\n",
              "      <th>IsOccluded</th>\n",
              "      <th>IsTruncated</th>\n",
              "      <th>IsGroupOf</th>\n",
              "      <th>IsDepiction</th>\n",
              "      <th>IsInside</th>\n",
              "    </tr>\n",
              "  </thead>\n",
              "  <tbody>\n",
              "    <tr>\n",
              "      <th>0</th>\n",
              "      <td>000026e7ee790996</td>\n",
              "      <td>freeform</td>\n",
              "      <td>/m/07j7r</td>\n",
              "      <td>1</td>\n",
              "      <td>0.071905</td>\n",
              "      <td>0.145346</td>\n",
              "      <td>0.206591</td>\n",
              "      <td>0.391306</td>\n",
              "      <td>0</td>\n",
              "      <td>1</td>\n",
              "      <td>1</td>\n",
              "      <td>0</td>\n",
              "      <td>0</td>\n",
              "    </tr>\n",
              "    <tr>\n",
              "      <th>1</th>\n",
              "      <td>000026e7ee790996</td>\n",
              "      <td>freeform</td>\n",
              "      <td>/m/07j7r</td>\n",
              "      <td>1</td>\n",
              "      <td>0.439756</td>\n",
              "      <td>0.572466</td>\n",
              "      <td>0.264153</td>\n",
              "      <td>0.435122</td>\n",
              "      <td>0</td>\n",
              "      <td>1</td>\n",
              "      <td>1</td>\n",
              "      <td>0</td>\n",
              "      <td>0</td>\n",
              "    </tr>\n",
              "    <tr>\n",
              "      <th>2</th>\n",
              "      <td>000026e7ee790996</td>\n",
              "      <td>freeform</td>\n",
              "      <td>/m/07j7r</td>\n",
              "      <td>1</td>\n",
              "      <td>0.668455</td>\n",
              "      <td>1.000000</td>\n",
              "      <td>0.000000</td>\n",
              "      <td>0.552825</td>\n",
              "      <td>0</td>\n",
              "      <td>1</td>\n",
              "      <td>1</td>\n",
              "      <td>0</td>\n",
              "      <td>0</td>\n",
              "    </tr>\n",
              "    <tr>\n",
              "      <th>3</th>\n",
              "      <td>000062a39995e348</td>\n",
              "      <td>freeform</td>\n",
              "      <td>/m/015p6</td>\n",
              "      <td>1</td>\n",
              "      <td>0.205719</td>\n",
              "      <td>0.849912</td>\n",
              "      <td>0.154144</td>\n",
              "      <td>1.000000</td>\n",
              "      <td>0</td>\n",
              "      <td>0</td>\n",
              "      <td>0</td>\n",
              "      <td>0</td>\n",
              "      <td>0</td>\n",
              "    </tr>\n",
              "    <tr>\n",
              "      <th>4</th>\n",
              "      <td>000062a39995e348</td>\n",
              "      <td>freeform</td>\n",
              "      <td>/m/05s2s</td>\n",
              "      <td>1</td>\n",
              "      <td>0.137133</td>\n",
              "      <td>0.377634</td>\n",
              "      <td>0.000000</td>\n",
              "      <td>0.884185</td>\n",
              "      <td>1</td>\n",
              "      <td>1</td>\n",
              "      <td>0</td>\n",
              "      <td>0</td>\n",
              "      <td>0</td>\n",
              "    </tr>\n",
              "  </tbody>\n",
              "</table>\n",
              "</div>"
            ],
            "text/plain": [
              "            ImageID    Source LabelName  ...  IsGroupOf  IsDepiction  IsInside\n",
              "0  000026e7ee790996  freeform  /m/07j7r  ...          1            0         0\n",
              "1  000026e7ee790996  freeform  /m/07j7r  ...          1            0         0\n",
              "2  000026e7ee790996  freeform  /m/07j7r  ...          1            0         0\n",
              "3  000062a39995e348  freeform  /m/015p6  ...          0            0         0\n",
              "4  000062a39995e348  freeform  /m/05s2s  ...          0            0         0\n",
              "\n",
              "[5 rows x 13 columns]"
            ]
          },
          "metadata": {
            "tags": []
          },
          "execution_count": 31
        }
      ]
    },
    {
      "cell_type": "markdown",
      "metadata": {
        "id": "Uahv8P0s13YZ",
        "colab_type": "text"
      },
      "source": [
        "The values of the desired categories (Street light, traffic light, Traffic Sign, Light Bulb) can be sumarised in a dictionnary. \n",
        "![imatge.png](data:image/png;base64,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)"
      ]
    },
    {
      "cell_type": "code",
      "metadata": {
        "id": "6LBbYtmK1p7P",
        "colab_type": "code",
        "cellView": "both",
        "outputId": "2a04f3c3-6c72-40f5-c45b-72b1648a0f94",
        "colab": {
          "base_uri": "https://localhost:8080/",
          "height": 54
        }
      },
      "source": [
        "myCategories={'/m/015qff': 'Traffic_light', '/m/01mqdt' : 'Traffic_sign', '/m/033rq4' : 'Street_light', '/m/0h8l4fh':'Light_bulb' }\n",
        "myCategories2={'/m/015qff': ['Traffic_light',1], \n",
        "               '/m/01mqdt' : ['Traffic_sign',2],\n",
        "               '/m/033rq4' : ['Street_light', 3], \n",
        "               '/m/0h8l4fh': ['Light_bulb',4]}\n",
        "dfa=df.loc[df['LabelName'].isin(list(myCategories2))]\n",
        "print(\"number of annotations   : \", dfa.shape[0], \"\\n\",\n",
        "      \"number of unique images : \", dfa.ImageID.unique().shape[0])"
      ],
      "execution_count": 32,
      "outputs": [
        {
          "output_type": "stream",
          "text": [
            "number of annotations   :  492 \n",
            " number of unique images :  167\n"
          ],
          "name": "stdout"
        }
      ]
    },
    {
      "cell_type": "markdown",
      "metadata": {
        "id": "7qCFTkqN3X0f",
        "colab_type": "text"
      },
      "source": [
        "The annotations df is filtered related to the desired category"
      ]
    },
    {
      "cell_type": "code",
      "metadata": {
        "id": "p6Wrv5Rg_e5D",
        "colab_type": "code",
        "outputId": "07007773-9a81-4366-f99a-ac13102546c9",
        "colab": {
          "base_uri": "https://localhost:8080/",
          "height": 226
        }
      },
      "source": [
        "dfa_S= (dfa.loc[dfa['LabelName'] == '/m/033rq4']).drop(columns=['Source','IsOccluded','IsDepiction', 'IsInside', 'IsGroupOf', 'IsTruncated'], axis=1)\n",
        "dfa_S.head()"
      ],
      "execution_count": 33,
      "outputs": [
        {
          "output_type": "execute_result",
          "data": {
            "text/html": [
              "<div>\n",
              "<style scoped>\n",
              "    .dataframe tbody tr th:only-of-type {\n",
              "        vertical-align: middle;\n",
              "    }\n",
              "\n",
              "    .dataframe tbody tr th {\n",
              "        vertical-align: top;\n",
              "    }\n",
              "\n",
              "    .dataframe thead th {\n",
              "        text-align: right;\n",
              "    }\n",
              "</style>\n",
              "<table border=\"1\" class=\"dataframe\">\n",
              "  <thead>\n",
              "    <tr style=\"text-align: right;\">\n",
              "      <th></th>\n",
              "      <th>ImageID</th>\n",
              "      <th>LabelName</th>\n",
              "      <th>Confidence</th>\n",
              "      <th>XMin</th>\n",
              "      <th>XMax</th>\n",
              "      <th>YMin</th>\n",
              "      <th>YMax</th>\n",
              "    </tr>\n",
              "  </thead>\n",
              "  <tbody>\n",
              "    <tr>\n",
              "      <th>10473</th>\n",
              "      <td>03b29a57611ad70e</td>\n",
              "      <td>/m/033rq4</td>\n",
              "      <td>1</td>\n",
              "      <td>0.317103</td>\n",
              "      <td>0.366145</td>\n",
              "      <td>0.467062</td>\n",
              "      <td>0.929064</td>\n",
              "    </tr>\n",
              "    <tr>\n",
              "      <th>10474</th>\n",
              "      <td>03b29a57611ad70e</td>\n",
              "      <td>/m/033rq4</td>\n",
              "      <td>1</td>\n",
              "      <td>0.589429</td>\n",
              "      <td>0.614238</td>\n",
              "      <td>0.600548</td>\n",
              "      <td>0.823315</td>\n",
              "    </tr>\n",
              "    <tr>\n",
              "      <th>10475</th>\n",
              "      <td>03b29a57611ad70e</td>\n",
              "      <td>/m/033rq4</td>\n",
              "      <td>1</td>\n",
              "      <td>0.665588</td>\n",
              "      <td>0.682897</td>\n",
              "      <td>0.634353</td>\n",
              "      <td>0.790377</td>\n",
              "    </tr>\n",
              "    <tr>\n",
              "      <th>32346</th>\n",
              "      <td>0bd3d413eb90a326</td>\n",
              "      <td>/m/033rq4</td>\n",
              "      <td>1</td>\n",
              "      <td>0.126585</td>\n",
              "      <td>0.135598</td>\n",
              "      <td>0.245906</td>\n",
              "      <td>0.356643</td>\n",
              "    </tr>\n",
              "    <tr>\n",
              "      <th>32347</th>\n",
              "      <td>0bd3d413eb90a326</td>\n",
              "      <td>/m/033rq4</td>\n",
              "      <td>1</td>\n",
              "      <td>0.230240</td>\n",
              "      <td>0.290115</td>\n",
              "      <td>0.118859</td>\n",
              "      <td>0.457079</td>\n",
              "    </tr>\n",
              "  </tbody>\n",
              "</table>\n",
              "</div>"
            ],
            "text/plain": [
              "                ImageID  LabelName  Confidence  ...      XMax      YMin      YMax\n",
              "10473  03b29a57611ad70e  /m/033rq4           1  ...  0.366145  0.467062  0.929064\n",
              "10474  03b29a57611ad70e  /m/033rq4           1  ...  0.614238  0.600548  0.823315\n",
              "10475  03b29a57611ad70e  /m/033rq4           1  ...  0.682897  0.634353  0.790377\n",
              "32346  0bd3d413eb90a326  /m/033rq4           1  ...  0.135598  0.245906  0.356643\n",
              "32347  0bd3d413eb90a326  /m/033rq4           1  ...  0.290115  0.118859  0.457079\n",
              "\n",
              "[5 rows x 7 columns]"
            ]
          },
          "metadata": {
            "tags": []
          },
          "execution_count": 33
        }
      ]
    },
    {
      "cell_type": "code",
      "metadata": {
        "id": "DcJBFh6DUdgE",
        "colab_type": "code",
        "outputId": "176983cb-d72e-458e-d616-abd644e13520",
        "colab": {
          "base_uri": "https://localhost:8080/",
          "height": 164
        }
      },
      "source": [
        "# the original Index from the CSV is kept at \"idx_orig\" and a new index is reset \n",
        "# starting at 1. \n",
        "dfa_SL = dfa_S.reset_index().rename(columns={'index': 'idx_orig'})\n",
        "dfa_SL.index=range(1, len(dfa_SL)+1) \n",
        "dfa_SL.head(), dfa_SL.shape"
      ],
      "execution_count": 34,
      "outputs": [
        {
          "output_type": "execute_result",
          "data": {
            "text/plain": [
              "(   idx_orig           ImageID  LabelName  ...      XMax      YMin      YMax\n",
              " 1     10473  03b29a57611ad70e  /m/033rq4  ...  0.366145  0.467062  0.929064\n",
              " 2     10474  03b29a57611ad70e  /m/033rq4  ...  0.614238  0.600548  0.823315\n",
              " 3     10475  03b29a57611ad70e  /m/033rq4  ...  0.682897  0.634353  0.790377\n",
              " 4     32346  0bd3d413eb90a326  /m/033rq4  ...  0.135598  0.245906  0.356643\n",
              " 5     32347  0bd3d413eb90a326  /m/033rq4  ...  0.290115  0.118859  0.457079\n",
              " \n",
              " [5 rows x 8 columns], (242, 8))"
            ]
          },
          "metadata": {
            "tags": []
          },
          "execution_count": 34
        }
      ]
    },
    {
      "cell_type": "markdown",
      "metadata": {
        "id": "YyNlrg_a9n0d",
        "colab_type": "text"
      },
      "source": [
        "## DFP definition"
      ]
    },
    {
      "cell_type": "markdown",
      "metadata": {
        "id": "BuEfRUrF3vIz",
        "colab_type": "text"
      },
      "source": [
        "We create a DataFrame (dfp) with all the names, Height, Width and category of the images in a given Directory with the function **createDFP(dir)**"
      ]
    },
    {
      "cell_type": "code",
      "metadata": {
        "id": "HvC7GVde6ng5",
        "colab_type": "code",
        "outputId": "277ac6e1-67e2-4426-a7ef-d2c5e358c0a6",
        "colab": {
          "base_uri": "https://localhost:8080/",
          "height": 206
        }
      },
      "source": [
        "dfp_SL = createDFP(FOLDER_PICS)\n",
        "dfp_SL.head()"
      ],
      "execution_count": 35,
      "outputs": [
        {
          "output_type": "execute_result",
          "data": {
            "text/html": [
              "<div>\n",
              "<style scoped>\n",
              "    .dataframe tbody tr th:only-of-type {\n",
              "        vertical-align: middle;\n",
              "    }\n",
              "\n",
              "    .dataframe tbody tr th {\n",
              "        vertical-align: top;\n",
              "    }\n",
              "\n",
              "    .dataframe thead th {\n",
              "        text-align: right;\n",
              "    }\n",
              "</style>\n",
              "<table border=\"1\" class=\"dataframe\">\n",
              "  <thead>\n",
              "    <tr style=\"text-align: right;\">\n",
              "      <th></th>\n",
              "      <th>idx_img</th>\n",
              "      <th>ImageID</th>\n",
              "      <th>height</th>\n",
              "      <th>width</th>\n",
              "      <th>class</th>\n",
              "    </tr>\n",
              "  </thead>\n",
              "  <tbody>\n",
              "    <tr>\n",
              "      <th>0</th>\n",
              "      <td>1</td>\n",
              "      <td>03b29a57611ad70e</td>\n",
              "      <td>682</td>\n",
              "      <td>1024</td>\n",
              "      <td>Street_light</td>\n",
              "    </tr>\n",
              "    <tr>\n",
              "      <th>1</th>\n",
              "      <td>2</td>\n",
              "      <td>0bd3d413eb90a326</td>\n",
              "      <td>768</td>\n",
              "      <td>1024</td>\n",
              "      <td>Street_light</td>\n",
              "    </tr>\n",
              "    <tr>\n",
              "      <th>2</th>\n",
              "      <td>3</td>\n",
              "      <td>0e88c20dd40e6b87</td>\n",
              "      <td>657</td>\n",
              "      <td>1024</td>\n",
              "      <td>Street_light</td>\n",
              "    </tr>\n",
              "    <tr>\n",
              "      <th>3</th>\n",
              "      <td>4</td>\n",
              "      <td>1b52e64a6c5a652e</td>\n",
              "      <td>1024</td>\n",
              "      <td>670</td>\n",
              "      <td>Street_light</td>\n",
              "    </tr>\n",
              "    <tr>\n",
              "      <th>4</th>\n",
              "      <td>5</td>\n",
              "      <td>2bc5e1bb91dbca92</td>\n",
              "      <td>1024</td>\n",
              "      <td>768</td>\n",
              "      <td>Street_light</td>\n",
              "    </tr>\n",
              "  </tbody>\n",
              "</table>\n",
              "</div>"
            ],
            "text/plain": [
              "   idx_img           ImageID  height  width         class\n",
              "0        1  03b29a57611ad70e     682   1024  Street_light\n",
              "1        2  0bd3d413eb90a326     768   1024  Street_light\n",
              "2        3  0e88c20dd40e6b87     657   1024  Street_light\n",
              "3        4  1b52e64a6c5a652e    1024    670  Street_light\n",
              "4        5  2bc5e1bb91dbca92    1024    768  Street_light"
            ]
          },
          "metadata": {
            "tags": []
          },
          "execution_count": 35
        }
      ]
    },
    {
      "cell_type": "markdown",
      "metadata": {
        "id": "KePLzFaIaTCF",
        "colab_type": "text"
      },
      "source": [
        "## Merge Both DFs"
      ]
    },
    {
      "cell_type": "markdown",
      "metadata": {
        "id": "NXu-qL0M3_vQ",
        "colab_type": "text"
      },
      "source": [
        "We merge the dfa with the info from dfp prior to creating the json file. "
      ]
    },
    {
      "cell_type": "code",
      "metadata": {
        "id": "WJztyt0lFzgn",
        "colab_type": "code",
        "outputId": "1e2b53fd-c10a-4a07-990c-47da011df400",
        "colab": {
          "base_uri": "https://localhost:8080/",
          "height": 206
        }
      },
      "source": [
        "df_Dst = Merge_DF(dfa_SL, dfp_SL)\n",
        "df_out = df_Dst.drop(columns=['idx_orig', 'LabelName']).rename(columns={'ImageID': 'filename', 'idx_img':'image_id'})\n",
        "df_out['filename'] = df_out['filename'].apply(lambda x: f\"{x}.jpg\")\n",
        "df_out.head()"
      ],
      "execution_count": 36,
      "outputs": [
        {
          "output_type": "execute_result",
          "data": {
            "text/html": [
              "<div>\n",
              "<style scoped>\n",
              "    .dataframe tbody tr th:only-of-type {\n",
              "        vertical-align: middle;\n",
              "    }\n",
              "\n",
              "    .dataframe tbody tr th {\n",
              "        vertical-align: top;\n",
              "    }\n",
              "\n",
              "    .dataframe thead th {\n",
              "        text-align: right;\n",
              "    }\n",
              "</style>\n",
              "<table border=\"1\" class=\"dataframe\">\n",
              "  <thead>\n",
              "    <tr style=\"text-align: right;\">\n",
              "      <th></th>\n",
              "      <th>filename</th>\n",
              "      <th>image_id</th>\n",
              "      <th>height</th>\n",
              "      <th>width</th>\n",
              "      <th>class</th>\n",
              "      <th>xmin</th>\n",
              "      <th>xmax</th>\n",
              "      <th>ymin</th>\n",
              "      <th>ymax</th>\n",
              "    </tr>\n",
              "  </thead>\n",
              "  <tbody>\n",
              "    <tr>\n",
              "      <th>1</th>\n",
              "      <td>03b29a57611ad70e.jpg</td>\n",
              "      <td>1</td>\n",
              "      <td>682</td>\n",
              "      <td>1024</td>\n",
              "      <td>Street_light</td>\n",
              "      <td>324</td>\n",
              "      <td>374</td>\n",
              "      <td>318</td>\n",
              "      <td>633</td>\n",
              "    </tr>\n",
              "    <tr>\n",
              "      <th>2</th>\n",
              "      <td>03b29a57611ad70e.jpg</td>\n",
              "      <td>1</td>\n",
              "      <td>682</td>\n",
              "      <td>1024</td>\n",
              "      <td>Street_light</td>\n",
              "      <td>603</td>\n",
              "      <td>628</td>\n",
              "      <td>409</td>\n",
              "      <td>561</td>\n",
              "    </tr>\n",
              "    <tr>\n",
              "      <th>3</th>\n",
              "      <td>03b29a57611ad70e.jpg</td>\n",
              "      <td>1</td>\n",
              "      <td>682</td>\n",
              "      <td>1024</td>\n",
              "      <td>Street_light</td>\n",
              "      <td>681</td>\n",
              "      <td>699</td>\n",
              "      <td>432</td>\n",
              "      <td>539</td>\n",
              "    </tr>\n",
              "    <tr>\n",
              "      <th>4</th>\n",
              "      <td>0bd3d413eb90a326.jpg</td>\n",
              "      <td>2</td>\n",
              "      <td>768</td>\n",
              "      <td>1024</td>\n",
              "      <td>Street_light</td>\n",
              "      <td>129</td>\n",
              "      <td>138</td>\n",
              "      <td>188</td>\n",
              "      <td>273</td>\n",
              "    </tr>\n",
              "    <tr>\n",
              "      <th>5</th>\n",
              "      <td>0bd3d413eb90a326.jpg</td>\n",
              "      <td>2</td>\n",
              "      <td>768</td>\n",
              "      <td>1024</td>\n",
              "      <td>Street_light</td>\n",
              "      <td>235</td>\n",
              "      <td>297</td>\n",
              "      <td>91</td>\n",
              "      <td>351</td>\n",
              "    </tr>\n",
              "  </tbody>\n",
              "</table>\n",
              "</div>"
            ],
            "text/plain": [
              "               filename  image_id  height  width  ... xmin  xmax  ymin  ymax\n",
              "1  03b29a57611ad70e.jpg         1     682   1024  ...  324   374   318   633\n",
              "2  03b29a57611ad70e.jpg         1     682   1024  ...  603   628   409   561\n",
              "3  03b29a57611ad70e.jpg         1     682   1024  ...  681   699   432   539\n",
              "4  0bd3d413eb90a326.jpg         2     768   1024  ...  129   138   188   273\n",
              "5  0bd3d413eb90a326.jpg         2     768   1024  ...  235   297    91   351\n",
              "\n",
              "[5 rows x 9 columns]"
            ]
          },
          "metadata": {
            "tags": []
          },
          "execution_count": 36
        }
      ]
    },
    {
      "cell_type": "markdown",
      "metadata": {
        "id": "lphJT4jTnzD4",
        "colab_type": "text"
      },
      "source": [
        "# Write CSV"
      ]
    },
    {
      "cell_type": "code",
      "metadata": {
        "id": "ZwdZSMWTkH-p",
        "colab_type": "code",
        "colab": {}
      },
      "source": [
        "df_out.to_csv(FOLDER_OUT + FLAVOUR +'_labels.csv', header=True)"
      ],
      "execution_count": 0,
      "outputs": []
    },
    {
      "cell_type": "code",
      "metadata": {
        "id": "GgMvnadUnQRp",
        "colab_type": "code",
        "outputId": "2a03c521-3182-49f1-f749-3313cac5b6d6",
        "colab": {
          "base_uri": "https://localhost:8080/",
          "height": 421
        }
      },
      "source": [
        "!ls '/content/drive/My Drive/RCNN/OIDCv4_v1/Dataset/test/Street light/'"
      ],
      "execution_count": 0,
      "outputs": [
        {
          "output_type": "stream",
          "text": [
            "03b29a57611ad70e.jpg  5dc9465b0bad69fc.jpg  b67924cca177725a.jpg\n",
            "0bd3d413eb90a326.jpg  6045369b5a067cbe.jpg  b752f97c3b88d4f4.jpg\n",
            "0e88c20dd40e6b87.jpg  63cbeba5233632ad.jpg  bdd6fd042dec9f9f.jpg\n",
            "15362b7c65f87cc4.jpg  6a23839d173029a4.jpg  c4677dc9811daf71.jpg\n",
            "16c912d7bfb98b66.jpg  6b79e1664522ca64.jpg  c4c5c7841f474830.jpg\n",
            "1b52e64a6c5a652e.jpg  6c5bc997bd4bccbd.jpg  c665424f1a2aec7c.jpg\n",
            "2472ac8c758f5c67.jpg  6e39a100b8698efa.jpg  cc9325e7a210dd44.jpg\n",
            "26155211864db2f5.jpg  73b9867cbfbb807f.jpg  ce0731a57599ab5b.jpg\n",
            "2693acbe439a548c.jpg  7de4d90206cb3554.jpg  cf59b948f8af6969.jpg\n",
            "2790712e682cccb2.jpg  821f75f1f4061c79.jpg  d67533156d52e10c.jpg\n",
            "294aff231c7c290a.jpg  84de805cbb63cd3e.jpg  d76a5ed6b071c986.jpg\n",
            "2bc5e1bb91dbca92.jpg  868a4552ddad8728.jpg  da35f10210fa2292.jpg\n",
            "2c9aaeafb60e8aee.jpg  8a8d05961ec690a1.jpg  e830c6987c5d6a01.jpg\n",
            "32557b68d74c17c4.jpg  8c04d4c549ad1a78.jpg  ed4bcb9a60c09e31.jpg\n",
            "3a7fafeea78bface.jpg  8f608b4161baeeea.jpg  edaff288c4aad16d.jpg\n",
            "3c8d21429d69eb5e.jpg  9534dcd470194472.jpg  f684040cce2bed8e.jpg\n",
            "3d89593ba3e2e2ef.jpg  9b657a4243e09c73.jpg  f8b2f557687fd6f0.jpg\n",
            "55e3ffeb097cb19a.jpg  9c37e3057754ffb2.jpg  fa71959273ea204c.jpg\n",
            "5875bb24076e0403.jpg  9c6dd0ebf617ad0d.jpg  fea044f66bdec61b.jpg\n",
            "59702228dcf5739d.jpg  ab4683781632491c.jpg  Label\n",
            "59780ceb6eaa4994.jpg  af65fbb50cde3317.jpg  test_labels.csv\n",
            "5a32988b2bc88a4f.jpg  b1a3e3f0a51ec444.jpg  VOC\n"
          ],
          "name": "stdout"
        }
      ]
    },
    {
      "cell_type": "markdown",
      "metadata": {
        "id": "d2TUax0KiS8u",
        "colab_type": "text"
      },
      "source": [
        "# **Write JSON**"
      ]
    },
    {
      "cell_type": "markdown",
      "metadata": {
        "id": "2HFU0B0MfxZf",
        "colab_type": "text"
      },
      "source": [
        "## Categories"
      ]
    },
    {
      "cell_type": "code",
      "metadata": {
        "id": "VF5U32mUrxl0",
        "colab_type": "code",
        "outputId": "1100c54b-2609-4161-912e-3bf8d4d3262a",
        "colab": {
          "base_uri": "https://localhost:8080/",
          "height": 72
        }
      },
      "source": [
        "cat_df = df_Dst.groupby([\"Category\"])['Category'].first()\n",
        "cat_df, type(cat_df)"
      ],
      "execution_count": 0,
      "outputs": [
        {
          "output_type": "execute_result",
          "data": {
            "text/plain": [
              "(Category\n",
              " Street light    Street light\n",
              " Name: Category, dtype: object, pandas.core.series.Series)"
            ]
          },
          "metadata": {
            "tags": []
          },
          "execution_count": 20
        }
      ]
    },
    {
      "cell_type": "code",
      "metadata": {
        "id": "V15wneDdamtS",
        "colab_type": "code",
        "outputId": "34812fcf-d649-4788-af93-3cc419477527",
        "colab": {
          "base_uri": "https://localhost:8080/",
          "height": 35
        }
      },
      "source": [
        "# cat_df=df_Dst.Category.unique()\n",
        "# provides the result but is much better the following\n",
        "cat_df = df_Dst.groupby([\"Category\"])['Category'].first()\n",
        "\n",
        "lst_cat=[]\n",
        "for i in range(len(cat_df)):\n",
        "    cat_dict={'supercategory': 'material',\n",
        "              'id': (i+1), \n",
        "              'name': cat_df[i]}\n",
        "\n",
        "    lst_cat.append(cat_dict)\n",
        "# needs to create some sort of categories: \n",
        "str_cat = json.dumps(lst_cat)\n",
        "categ = \"\\\"categories\\\": \" + str_cat \n",
        "print(categ)"
      ],
      "execution_count": 0,
      "outputs": [
        {
          "output_type": "stream",
          "text": [
            "\"categories\": [{\"supercategory\": \"material\", \"id\": 1, \"name\": \"Street light\"}]\n"
          ],
          "name": "stdout"
        }
      ]
    },
    {
      "cell_type": "code",
      "metadata": {
        "id": "o0e4MxQndkG1",
        "colab_type": "code",
        "colab": {}
      },
      "source": [
        "f = open('/content/drive/My Drive/temp/sampleTrad.json', 'w')\n",
        "print (categ, file=f) \n",
        "f.close()"
      ],
      "execution_count": 0,
      "outputs": []
    },
    {
      "cell_type": "markdown",
      "metadata": {
        "id": "DPBW7cb5f3-o",
        "colab_type": "text"
      },
      "source": [
        "## Images"
      ]
    },
    {
      "cell_type": "code",
      "metadata": {
        "id": "82o9085PUKcT",
        "colab_type": "code",
        "outputId": "44eb5e27-b0c6-4aeb-ffd0-fdc1b9e90ab6",
        "colab": {
          "base_uri": "https://localhost:8080/",
          "height": 92
        }
      },
      "source": [
        "# generates a DataFrame reduced to single elements images properties \n",
        "img_df = df_Dst.groupby([\"idx_img\"], sort=False)[\"idx_img\",\"ImageID\",\"Height\",\"Width\"].first()\n",
        "\n",
        "lst_img = []\n",
        "for i in img_df['idx_img']:      \n",
        "    im_dict = {\"filename\": (img_df['ImageID'][i])+\".jpg\", \n",
        "                   \"height\": int(img_df['Height'][i]),\n",
        "                   \"width\": int(img_df['Width'][i]),\n",
        "                   \"id\": int(i)}\n",
        "    lst_img.append(im_dict)\n",
        "# needs to create some sort of categories: \n",
        "imag = \"\\\"images\\\": \" + json.dumps(lst_img)\n",
        "print(imag)\n"
      ],
      "execution_count": 0,
      "outputs": [
        {
          "output_type": "stream",
          "text": [
            "\"images\": [{\"filename\": \"0000e2d480cfb105.jpg\", \"height\": 683, \"width\": 1024, \"id\": 1}, {\"filename\": \"000355964e21d5c7.jpg\", \"height\": 635, \"width\": 1024, \"id\": 2}]\n"
          ],
          "name": "stdout"
        },
        {
          "output_type": "stream",
          "text": [
            "/usr/local/lib/python3.6/dist-packages/ipykernel_launcher.py:2: FutureWarning: Indexing with multiple keys (implicitly converted to a tuple of keys) will be deprecated, use a list instead.\n",
            "  \n"
          ],
          "name": "stderr"
        }
      ]
    },
    {
      "cell_type": "markdown",
      "metadata": {
        "id": "maBtPrkPaZLO",
        "colab_type": "text"
      },
      "source": [
        "## Annotations"
      ]
    },
    {
      "cell_type": "code",
      "metadata": {
        "id": "8Salj50X5WzA",
        "colab_type": "code",
        "outputId": "94bfc702-cfd7-4093-d4bc-3622e60dcd4a",
        "colab": {
          "base_uri": "https://localhost:8080/",
          "height": 55
        }
      },
      "source": [
        "\n",
        "iscrowd = 1\n",
        "lst_ann=[]\n",
        "\n",
        "for i in df_Dst.index.to_list():\n",
        "    W = df_Dst[\"Xmax\"][i] - df_Dst[\"Xmin\"][i]\n",
        "    H = df_Dst[\"Ymax\"][i] - df_Dst[\"Ymin\"][i]\n",
        "    area = int(H*W)\n",
        "    image_id = i\n",
        "    # creates an array that is going to be a list.\n",
        "    xmi = df_Dst[\"Xmin\"][i]\n",
        "    ymi = df_Dst[\"Ymin\"][i]\n",
        "    xma = df_Dst[\"Xmax\"][i]\n",
        "    yma= df_Dst[\"Ymax\"][i]\n",
        " \n",
        "    bbox_lst = np.array([xmi, ymi, xma, yma])\n",
        "    anno_dict = {\"area\": int(W * H), \n",
        "                \"iscrowd\": int(0), \n",
        "                \"image_id\": int(df_Dst[\"idx_img\"][i]),\n",
        "                \"bbox\" : bbox_lst.tolist(), \n",
        "                \"id\": int(i)}    \n",
        "    lst_ann.append(anno_dict)\n",
        "anno=\"\\\"annotations\\\": \" + json.dumps(lst_ann)\n",
        "print(anno)\n"
      ],
      "execution_count": 0,
      "outputs": [
        {
          "output_type": "stream",
          "text": [
            "\"annotations\": [{\"area\": 828, \"iscrowd\": 0, \"image_id\": 1, \"bbox\": [582, 473, 600, 519], \"id\": 1}, {\"area\": 343, \"iscrowd\": 0, \"image_id\": 1, \"bbox\": [703, 475, 710, 524], \"id\": 2}, {\"area\": 473, \"iscrowd\": 0, \"image_id\": 1, \"bbox\": [760, 487, 771, 530], \"id\": 3}, {\"area\": 20520, \"iscrowd\": 0, \"image_id\": 2, \"bbox\": [72, 313, 148, 583], \"id\": 4}, {\"area\": 2520, \"iscrowd\": 0, \"image_id\": 2, \"bbox\": [304, 448, 328, 553], \"id\": 5}, {\"area\": 1134, \"iscrowd\": 0, \"image_id\": 2, \"bbox\": [388, 472, 409, 526], \"id\": 6}, {\"area\": 3366, \"iscrowd\": 0, \"image_id\": 2, \"bbox\": [567, 387, 589, 540], \"id\": 7}]\n"
          ],
          "name": "stdout"
        }
      ]
    },
    {
      "cell_type": "markdown",
      "metadata": {
        "id": "RchaeUtdhqMd",
        "colab_type": "text"
      },
      "source": [
        "## Merge Cat+Img+Ann"
      ]
    },
    {
      "cell_type": "markdown",
      "metadata": {
        "id": "X-kVPRE9QaTJ",
        "colab_type": "text"
      },
      "source": [
        "Create the dictionary with the 3 (K, V) pairs"
      ]
    },
    {
      "cell_type": "code",
      "metadata": {
        "id": "RgGV_58Gs2rH",
        "colab_type": "code",
        "outputId": "1cd93c5c-905e-42f1-92db-9d35a3056e25",
        "colab": {
          "base_uri": "https://localhost:8080/",
          "height": 807
        }
      },
      "source": [
        "dicto={\"categories\": lst_cat, \"images\": lst_img, \"annotations\": lst_ann}\n",
        "dicto\n"
      ],
      "execution_count": 0,
      "outputs": [
        {
          "output_type": "execute_result",
          "data": {
            "text/plain": [
              "{'annotations': [{'area': 828,\n",
              "   'bbox': [582, 473, 600, 519],\n",
              "   'id': 1,\n",
              "   'image_id': 1,\n",
              "   'iscrowd': 0},\n",
              "  {'area': 343,\n",
              "   'bbox': [703, 475, 710, 524],\n",
              "   'id': 2,\n",
              "   'image_id': 1,\n",
              "   'iscrowd': 0},\n",
              "  {'area': 473,\n",
              "   'bbox': [760, 487, 771, 530],\n",
              "   'id': 3,\n",
              "   'image_id': 1,\n",
              "   'iscrowd': 0},\n",
              "  {'area': 20520,\n",
              "   'bbox': [72, 313, 148, 583],\n",
              "   'id': 4,\n",
              "   'image_id': 2,\n",
              "   'iscrowd': 0},\n",
              "  {'area': 2520,\n",
              "   'bbox': [304, 448, 328, 553],\n",
              "   'id': 5,\n",
              "   'image_id': 2,\n",
              "   'iscrowd': 0},\n",
              "  {'area': 1134,\n",
              "   'bbox': [388, 472, 409, 526],\n",
              "   'id': 6,\n",
              "   'image_id': 2,\n",
              "   'iscrowd': 0},\n",
              "  {'area': 3366,\n",
              "   'bbox': [567, 387, 589, 540],\n",
              "   'id': 7,\n",
              "   'image_id': 2,\n",
              "   'iscrowd': 0}],\n",
              " 'categories': [{'id': 1,\n",
              "   'name': 'Street light',\n",
              "   'supercategory': 'material'}],\n",
              " 'images': [{'filename': '0000e2d480cfb105.jpg',\n",
              "   'height': 683,\n",
              "   'id': 1,\n",
              "   'width': 1024},\n",
              "  {'filename': '000355964e21d5c7.jpg', 'height': 635, 'id': 2, 'width': 1024}]}"
            ]
          },
          "metadata": {
            "tags": []
          },
          "execution_count": 25
        }
      ]
    },
    {
      "cell_type": "markdown",
      "metadata": {
        "id": "UMu5cpijQWwT",
        "colab_type": "text"
      },
      "source": [
        "## output\n"
      ]
    },
    {
      "cell_type": "code",
      "metadata": {
        "id": "3oFbbYUDs2dy",
        "colab_type": "code",
        "colab": {}
      },
      "source": [
        "f = open('/content/drive/My Drive/temp/trainval.json', 'w')\n",
        "print (dicto, file=f) \n",
        "f.close()"
      ],
      "execution_count": 0,
      "outputs": []
    },
    {
      "cell_type": "code",
      "metadata": {
        "id": "cYMLu57uG0W-",
        "colab_type": "code",
        "colab": {}
      },
      "source": [
        "def generateJSON():\n",
        "    '''XYXY_ABS = 0 ///\n",
        "    (x0, y0, x1, y1) in absolute floating points coordinates.\n",
        "    The coordinates in range [0, width or height].\n",
        "    '''\n",
        "\n"
      ],
      "execution_count": 0,
      "outputs": []
    },
    {
      "cell_type": "code",
      "metadata": {
        "id": "YDvT5Vb3G0PH",
        "colab_type": "code",
        "colab": {}
      },
      "source": [
        ""
      ],
      "execution_count": 0,
      "outputs": []
    },
    {
      "cell_type": "code",
      "metadata": {
        "id": "nr_6biswOnez",
        "colab_type": "code",
        "colab": {}
      },
      "source": [
        "break\n",
        "\n"
      ],
      "execution_count": 0,
      "outputs": []
    },
    {
      "cell_type": "markdown",
      "metadata": {
        "id": "KI47lT8jO-m5",
        "colab_type": "text"
      },
      "source": [
        "# rubbish"
      ]
    },
    {
      "cell_type": "markdown",
      "metadata": {
        "id": "AGAMfYcHXPVY",
        "colab_type": "text"
      },
      "source": [
        ""
      ]
    },
    {
      "cell_type": "code",
      "metadata": {
        "id": "ZFenlYTdSGIS",
        "colab_type": "code",
        "colab": {}
      },
      "source": [
        "# json_data = json.dumps(lst_ann, default=lambda o: o.__dict__, indent=4)\n",
        "# https://stackoverflow.com/questions/3768895/how-to-make-a-class-json-serializable\n",
        "# https://pynative.com/make-python-class-json-serializable/"
      ],
      "execution_count": 0,
      "outputs": []
    },
    {
      "cell_type": "code",
      "metadata": {
        "id": "CNPbiXQ6Yi6J",
        "colab_type": "code",
        "colab": {}
      },
      "source": [
        "import json\n",
        "from json import JSONEncoder"
      ],
      "execution_count": 0,
      "outputs": []
    },
    {
      "cell_type": "code",
      "metadata": {
        "id": "6YjMp2BCemQ2",
        "colab_type": "code",
        "colab": {}
      },
      "source": [
        "f = open('/content/drive/My Drive/temp/Img_trad.json', 'w')\n",
        "print (imag, file=f) \n",
        "f.close()"
      ],
      "execution_count": 0,
      "outputs": []
    },
    {
      "cell_type": "code",
      "metadata": {
        "id": "Md7BGgck0-AN",
        "colab_type": "code",
        "colab": {}
      },
      "source": [
        "from typing import List\n",
        "class Annot_dict(object): \n",
        "    def __init__(self, area: str, iscrowd: str, image_id: str, bbox: List[int], id: int):\n",
        "        self.area = area\n",
        "        self.iscrowd = iscrowd\n",
        "        self.image_id = image_id\n",
        "        self.bbox = bbox\n",
        "        self.id = id "
      ],
      "execution_count": 0,
      "outputs": []
    },
    {
      "cell_type": "code",
      "metadata": {
        "id": "cozDxEXipuOQ",
        "colab_type": "code",
        "colab": {}
      },
      "source": [
        "class Annotat():\n",
        "    def __init__(self, categ):\n",
        "        self.category = categ\n",
        "        self.supercategory = 'Material'\n",
        "    \n",
        "    def toJson(self):\n",
        "        return json.dumps(self, default=lambda o:o.__dict__)\n",
        "\n",
        "class CategoryEncoder(JSONEncoder):\n",
        "    def default(self, o):\n",
        "        return o.__dict__\n"
      ],
      "execution_count": 0,
      "outputs": []
    },
    {
      "cell_type": "code",
      "metadata": {
        "id": "ZM6ARCSHY3i2",
        "colab_type": "code",
        "colab": {}
      },
      "source": [
        "annot = Annotat(\"Street light\")\n",
        "annotJSONData = json.dumps(annot.toJson(), indent=4)\n",
        "print(annotJSONData)\n",
        "%pwd"
      ],
      "execution_count": 0,
      "outputs": []
    },
    {
      "cell_type": "code",
      "metadata": {
        "id": "km-uPwiuc4zc",
        "colab_type": "code",
        "colab": {}
      },
      "source": [
        "%cd '/content/drive/My Drive/temp'\n",
        "%pwd"
      ],
      "execution_count": 0,
      "outputs": []
    },
    {
      "cell_type": "code",
      "metadata": {
        "id": "WF0IvYKUdBWt",
        "colab_type": "code",
        "colab": {}
      },
      "source": [
        "f = open('/content/drive/My Drive/temp/sample.json', 'w')\n",
        "print (annotJSONData, file=f) \n",
        "f.close()\n"
      ],
      "execution_count": 0,
      "outputs": []
    },
    {
      "cell_type": "markdown",
      "metadata": {
        "id": "Hes1hd1aso5y",
        "colab_type": "text"
      },
      "source": [
        "# New Section"
      ]
    },
    {
      "cell_type": "markdown",
      "metadata": {
        "id": "8jZCORKj1o4a",
        "colab_type": "text"
      },
      "source": [
        ""
      ]
    },
    {
      "cell_type": "markdown",
      "metadata": {
        "id": "pdL4Fy9i0Io_",
        "colab_type": "text"
      },
      "source": [
        ""
      ]
    },
    {
      "cell_type": "code",
      "metadata": {
        "id": "-bONays9eiGJ",
        "colab_type": "code",
        "colab": {}
      },
      "source": [
        "path=\"/content/drive/My Drive/RCNN/OIDCv4_v1\"\n",
        "path2=\"/content/drive/My Drive/RCNN/OIDCv4_v1/Dataset/train/Street light\"\n",
        "path3=\"/content/drive/My Drive/RCNN/OIDCv4_v1/Dataset/train/Street light/Label\""
      ],
      "execution_count": 0,
      "outputs": []
    },
    {
      "cell_type": "code",
      "metadata": {
        "id": "bKevHuChf32i",
        "colab_type": "code",
        "colab": {}
      },
      "source": [
        "os.chdir(path)\n",
        "Path.cwd()"
      ],
      "execution_count": 0,
      "outputs": []
    },
    {
      "cell_type": "code",
      "metadata": {
        "id": "HB--dnHx-0jF",
        "colab_type": "code",
        "colab": {}
      },
      "source": [
        "def findJpeg(folderPath, fileExt=\"jpg\"):\n",
        "    '''returns a lists of files jpg-type provided we pass the folderPath and the \n",
        "    file extension\n",
        "    '''\n",
        "    listName = []\n",
        "    for name in os.listdir(folderPath):\n",
        "        if fileExt in name :\n",
        "            listName.append(name)\n",
        "    return listName\n",
        "\n",
        "def returnPath(path=\"/content/drive/My Drive/RCNN/OIDCv4_v1\", dstType=\"train\", clsObject=\"Street light\", lbl = False):\n",
        "    '''\n",
        "    return the path of a Dataset given the class object (default \"Street light\") and datasetType (default train)\n",
        "    the other values can be \n",
        "    (Flash light, Traffic light, Traffic sign)\n",
        "    (val and test)\n",
        "    '''\n",
        "    if not lbl:\n",
        "        return path + \"/Dataset/\" + dstType + \"/\" + clsObject + \"/\"\n",
        "    else:\n",
        "        return path + \"/Dataset/\" + dstType + \"/\" + clsObject + \"/Label/\"\n",
        "\n",
        "def getValues(lnInfo):\n",
        "    '''\n",
        "    this function returns a tuple with the 4 values of the BBox.\n",
        "    '''\n",
        "    for x in lnInfo.strip() if isfloat(x)"
      ],
      "execution_count": 0,
      "outputs": []
    },
    {
      "cell_type": "code",
      "metadata": {
        "id": "m99gX2zTuQpn",
        "colab_type": "code",
        "colab": {}
      },
      "source": [
        "imgName=[]\n",
        "imgName = findJpeg(returnPath())\n",
        "imgName.sort()\n",
        "imgName[:5]"
      ],
      "execution_count": 0,
      "outputs": []
    },
    {
      "cell_type": "code",
      "metadata": {
        "id": "TFAcdV77JZz_",
        "colab_type": "code",
        "colab": {}
      },
      "source": [
        "anName=[]\n",
        "anName=findJpeg(returnPath(lbl=True), fileExt = \"txt\")\n",
        "anName.sort()\n",
        "anName[:5]"
      ],
      "execution_count": 0,
      "outputs": []
    },
    {
      "cell_type": "code",
      "metadata": {
        "id": "fK1Q8eMRieHw",
        "colab_type": "code",
        "colab": {}
      },
      "source": [
        "i = 0 \n",
        "with open(path2+\"/Label/\"+anName[1]) as f: \n",
        "    for line in f:\n",
        "        line.strip()\n",
        "        print(line)\n",
        "        i += 1 \n",
        "    print(i)\n",
        "\n",
        "f.close()"
      ],
      "execution_count": 0,
      "outputs": []
    },
    {
      "cell_type": "code",
      "metadata": {
        "id": "qMgI5RjMuQiA",
        "colab_type": "code",
        "colab": {}
      },
      "source": [
        "ASSERT : len(anName) == len(imgName)\n",
        "for fname in anName:\n",
        "    with open(path2+\"/Label/\"+fname) as f: \n",
        "        f.readlines()\n",
        "    f.close()\n"
      ],
      "execution_count": 0,
      "outputs": []
    },
    {
      "cell_type": "code",
      "metadata": {
        "id": "DHZJjxio8Rd4",
        "colab_type": "code",
        "colab": {}
      },
      "source": [
        "path = path.join(path+'/Dataset/train/Street light/Label')\n",
        "print(path)"
      ],
      "execution_count": 0,
      "outputs": []
    },
    {
      "cell_type": "markdown",
      "metadata": {
        "id": "ca7EFLgg8VzD",
        "colab_type": "text"
      },
      "source": [
        ""
      ]
    },
    {
      "cell_type": "code",
      "metadata": {
        "id": "Szg80pZJ26Cw",
        "colab_type": "code",
        "colab": {}
      },
      "source": [
        "\n",
        "path=path.join(path/'Dataset/train/Street light/Label')\n",
        "for _ in os.listdir(path+'/Dataset/train/Street light/Label'):\n",
        "    St=path+'/Dataset/train/Street light/Label'+'/'+_\n",
        "    CurrentF = open(St)\n",
        "    CurrentF.readlines()\n",
        "    print(CurrentF)\n",
        "    if i>5:\n",
        "        break\n",
        "    i+=1"
      ],
      "execution_count": 0,
      "outputs": []
    },
    {
      "cell_type": "code",
      "metadata": {
        "id": "yDxd-FnqXcow",
        "colab_type": "code",
        "colab": {}
      },
      "source": [
        "class imatge():\n",
        "    def __init__(self, path):\n",
        "        p = Path(path)\n",
        "        self.name = p.stem\n",
        "        self.category = p.parent\n",
        "        self.clsObject = p.parent()\n",
        "        self.path = p\n",
        "        self.size = \n",
        "        self.isAnnot = \n",
        "        self.numAnnot = \n",
        "        pass\n",
        "    "
      ],
      "execution_count": 0,
      "outputs": []
    },
    {
      "cell_type": "code",
      "metadata": {
        "id": "zET6vFWdSbIg",
        "colab_type": "code",
        "colab": {}
      },
      "source": [
        "def get_PCB_dict(data_list):\n",
        "    dataset_dicts = []\n",
        "    \n",
        "    for i,path in enumerate(data_list):\n",
        "        filename = path[0]\n",
        "        height, width = cv2.imread(filename).shape[:2]\n",
        "        record = {}\n",
        "        record['file_name'] = filename\n",
        "        record['image_id'] = i\n",
        "        record['height']= height\n",
        "        record['width']= width\n",
        "        \n",
        "        \n",
        "        objs = []\n",
        "        with open(path[1]) as t:\n",
        "            lines = t.readlines()\n",
        "            for line in lines:\n",
        "                if line[-1]==\"\\n\":\n",
        "                  box = line[:-1].split(' ')\n",
        "                else:\n",
        "                  box = line.split(' ')\n",
        "\n",
        "\n",
        "                boxes = list(map(float,[box[0],box[1],box[2],box[3]]))\n",
        "                category = int(box[4])\n",
        "\n",
        "                obj = {\n",
        "                    \"bbox\": boxes,\n",
        "                    \"bbox_mode\": BoxMode.XYXY_ABS,\n",
        "                    #\"segmentation\": [poly], To draw a line, along to ballon\n",
        "                    #you will need this for mask RCNN\n",
        "                    \"category_id\": category-1,\n",
        "                    \"iscrowd\": 0\n",
        "                }\n",
        "                objs.append(obj)\n",
        "            record[\"annotations\"] = objs\n",
        "        dataset_dicts.append(record)\n",
        "    return dataset_dicts #list of dicts"
      ],
      "execution_count": 0,
      "outputs": []
    },
    {
      "cell_type": "markdown",
      "metadata": {
        "id": "RGtj2Vb-RoG-",
        "colab_type": "text"
      },
      "source": [
        "# Newer\n"
      ]
    },
    {
      "cell_type": "code",
      "metadata": {
        "id": "pYA61o2MRr7k",
        "colab_type": "code",
        "outputId": "69c6f651-3270-4d71-9085-289253c6ef0d",
        "colab": {
          "base_uri": "https://localhost:8080/",
          "height": 35
        }
      },
      "source": [
        "%ls slight/"
      ],
      "execution_count": 0,
      "outputs": [
        {
          "output_type": "stream",
          "text": [
            "\u001b[0m\u001b[01;34mtrain\u001b[0m/\n"
          ],
          "name": "stdout"
        }
      ]
    },
    {
      "cell_type": "code",
      "metadata": {
        "id": "jBuAJ7hHRvCl",
        "colab_type": "code",
        "colab": {}
      },
      "source": [
        "!mkdir slight/train"
      ],
      "execution_count": 0,
      "outputs": []
    },
    {
      "cell_type": "code",
      "metadata": {
        "id": "GGvAmjNnRz2f",
        "colab_type": "code",
        "outputId": "754d3f38-fa6f-4522-a32a-c5e78c3d117a",
        "colab": {
          "base_uri": "https://localhost:8080/",
          "height": 1000
        }
      },
      "source": [
        "ls /content/drive/My\\ Drive/RCNN/OIDCv4_v1/Dataset/train/Street\\ light"
      ],
      "execution_count": 0,
      "outputs": [
        {
          "output_type": "stream",
          "text": [
            "0000e2d480cfb105.jpg  4ea75e4ddb6129af.jpg  a293b36bf43dc0f3.jpg\n",
            "000355964e21d5c7.jpg  4ee2d088722800f2.jpg  a2d80415e7f76612.jpg\n",
            "0015523d58b8b1e7.jpg  4ef7d10735f76db3.jpg  a339a497a45027d6.jpg\n",
            "0020cd5fb7cf6d5e.jpg  4f77c2a5992016b3.jpg  a3cd6944cc3883cc.jpg\n",
            "00250fb6c81181d6.jpg  4f9a87671d660356.jpg  a41f58651b782e4e.jpg\n",
            "0026a8c29faa63e9.jpg  4fa0913e95af3e09.jpg  a42749a464b0161e.jpg\n",
            "0027826cd655b7c6.jpg  5056b58c0c661096.jpg  a453813e67afb171.jpg\n",
            "002b4d2ccc95819d.jpg  5061590bb6d8e189.jpg  a4905ede9bc1e90e.jpg\n",
            "002f0e414500624e.jpg  506286c8f3ca1d50.jpg  a4b83193c2fb807a.jpg\n",
            "0034765f1e45e1ea.jpg  50be9b29edaa8e4a.jpg  a4be42890b7c4cf5.jpg\n",
            "0036d776ad7672bd.jpg  50cf2dd9b1dcf984.jpg  a4ce03ebaad00ccf.jpg\n",
            "003b9d6b1cc93326.jpg  51077a1d18a6e035.jpg  a4d4255be9f204b6.jpg\n",
            "003e0a32bcc2c475.jpg  5149100aa7295594.jpg  a5265134a7785d56.jpg\n",
            "00455fd9002bce36.jpg  514bf1acd6816cf7.jpg  a57265140c26cfda.jpg\n",
            "00613b86a38ca03b.jpg  51e6e2a20e8468b8.jpg  a59e4d9e239feb7a.jpg\n",
            "006804e54836bd4e.jpg  520f064501129029.jpg  a65cec703396af37.jpg\n",
            "0080f28c6886f551.jpg  52a0376e5aa4aa1f.jpg  a6784561f779474f.jpg\n",
            "009ebcfcb102ead8.jpg  52ba5f94a7b01663.jpg  a6986ddc861467da.jpg\n",
            "00a1a64109c70d3f.jpg  530ee4bd52dd39b0.jpg  a6a8ddb75bb0e67d.jpg\n",
            "00a2f238116b247a.jpg  535f45edf7181e10.jpg  a6de2a259c052b64.jpg\n",
            "00a8af5f80b52933.jpg  5369e50fc1936fda.jpg  a76a22d619733ea8.jpg\n",
            "00dd203507624d78.jpg  53ce877096c0f88c.jpg  a7a18e4942e69c08.jpg\n",
            "00eac92a6c1be596.jpg  53f0112db62dc8d1.jpg  a7bc21cc55830a46.jpg\n",
            "01239656195af1e4.jpg  54292e8ef773acd0.jpg  a7c1df211369486d.jpg\n",
            "013f266be11ffc96.jpg  54b9febc590b135b.jpg  a7e6b9c1e304fc44.jpg\n",
            "014dc8d047641390.jpg  55adfbf18fd2a1d9.jpg  a7f783a19f6dcc14.jpg\n",
            "01513089c2e998ed.jpg  55f57071707d5ddc.jpg  a9063c77e4a6a395.jpg\n",
            "0162770a9b78644a.jpg  56970159256c3eb7.jpg  a92ff5a76528acd5.jpg\n",
            "017d50b8f36de046.jpg  56a692d144e25eac.jpg  a93c5a22a433d88f.jpg\n",
            "02017785f729b701.jpg  5733b0a865ad690f.jpg  aa02f86766f027e0.jpg\n",
            "025ab150bbde7344.jpg  5758330db5f1e7e4.jpg  aa0596a636d40b28.jpg\n",
            "025cccfcc96a32b7.jpg  578863b8cf9aa81d.jpg  aa22556ee003fef4.jpg\n",
            "027839de88e3469e.jpg  579ce36bb4927828.jpg  ab20f03d349c2b3a.jpg\n",
            "03565e3e848305f5.jpg  57b4d45d95408293.jpg  ab8f967f95401ba2.jpg\n",
            "040d6274e3cb87e7.jpg  584d66526b33fbdb.jpg  aba013a2d630d7e4.jpg\n",
            "0442cde8b29785b7.jpg  58778c96a31b9ca4.jpg  abb73523fe4ae618.jpg\n",
            "044ca05d2a28df88.jpg  5912a64b2338ac4f.jpg  abcd8aec3ce4e40c.jpg\n",
            "04532d386fcee8b4.jpg  591d15928f21210b.jpg  ac5276ef8662a909.jpg\n",
            "048068e98c2c519c.jpg  59589dcd5262de28.jpg  aca4b1e4f80cadaa.jpg\n",
            "049a09fab678c690.jpg  5abe77662b71b5c3.jpg  ad913bb7ba976250.jpg\n",
            "04e2508dd057fe50.jpg  5aff9c26236231b7.jpg  adf1059439ab4489.jpg\n",
            "05058c6902458322.jpg  5bab2453d078626e.jpg  ae86390d113f9379.jpg\n",
            "051697b1111e9aaa.jpg  5c7ebe0e1a684188.jpg  aeaf860e87b8afe8.jpg\n",
            "05290fd9390c48c7.jpg  5ca6623f9fcb3790.jpg  aecc3fc3dbfe08dc.jpg\n",
            "055177453d6bc1f2.jpg  5d0ae3f659ccce04.jpg  aeeb59e06968b01e.jpg\n",
            "05a24341f0a6bd37.jpg  5d5d09bc418b44b7.jpg  af08c09a9fd1dec6.jpg\n",
            "065a04ba51f09f91.jpg  5d9dd4bff9aacc34.jpg  af0c3d26dc66fd3e.jpg\n",
            "0775faca41cebbe5.jpg  5e15c09a2050cc7d.jpg  af1610d605c61dc2.jpg\n",
            "07af9736ddbeb8f5.jpg  5e30dd6be64a9fc3.jpg  af7433cb205ddb66.jpg\n",
            "07c7cb537505fcca.jpg  5e41c42d224d0879.jpg  af77dd3954f2ff41.jpg\n",
            "07cb3aa69d9c9f9c.jpg  5ea8272976c45e2c.jpg  af8bf370f7407ae4.jpg\n",
            "081aba98d72644b3.jpg  5f12b532276feca2.jpg  afaaff3227bf25d5.jpg\n",
            "0855200c981ab6a0.jpg  5f73f808460704a0.jpg  afc2f01370c775d8.jpg\n",
            "0876535925092a28.jpg  5f8e769b949cb423.jpg  afdcc264863b6bc2.jpg\n",
            "08bf2fa1c80817c2.jpg  5f9f5d6ac561399d.jpg  afef75fa949e9481.jpg\n",
            "098dff06c42b8159.jpg  5fb889f4e6e4b6e7.jpg  b08242206a508e33.jpg\n",
            "09bb2dc88fe74522.jpg  6007263d1689956a.jpg  b0b0ce489cf1f6ed.jpg\n",
            "09e42450f57e635f.jpg  602353ca7c1bbd2e.jpg  b11331ffdc4a93a4.jpg\n",
            "0a495bd0e6b9e7da.jpg  602bdd6124a66b28.jpg  b127b0860a8801fd.jpg\n",
            "0a91a6a55d87dc84.jpg  6076357b5acc1f68.jpg  b15a4d785c1047eb.jpg\n",
            "0a9df41f5a0cf02f.jpg  60985b80374de9c0.jpg  b15bdd2a258a8407.jpg\n",
            "0a9fba5f2f31ff37.jpg  60b655d97f205e8d.jpg  b1f6f87eafc96882.jpg\n",
            "0acaff5d369a055f.jpg  60fcea0c17422bbb.jpg  b2b15632736e06ff.jpg\n",
            "0af5b13a8bae538f.jpg  6149bfb51e288915.jpg  b2dcc3957497a3da.jpg\n",
            "0bcb87abe4e8f4b8.jpg  6248c0d7e82d3ad0.jpg  b34955ac5b9ea3fc.jpg\n",
            "0dc1c834fadd319b.jpg  624ac0475236f8ce.jpg  b3b7bada7a257dd5.jpg\n",
            "0de6d09228028fd3.jpg  62b4e103b6c41916.jpg  b40f7d1fb039831b.jpg\n",
            "0e22e5e9acefd1a8.jpg  6354b1801b3d5c7c.jpg  b42247df01f13fd9.jpg\n",
            "0e33e178bd3ae502.jpg  63c58d54221cfe82.jpg  b4313b44e8473760.jpg\n",
            "0e4d50629e10f191.jpg  640a43e5d2904ad6.jpg  b457b3ba16fda1ae.jpg\n",
            "0f1283372ecba3b5.jpg  6431fcc62195d5dc.jpg  b4b164a8c1488512.jpg\n",
            "0f30cc97d5d6b30c.jpg  645a16c63661d0e5.jpg  b4fde637b691eb0e.jpg\n",
            "0f7f1a7305b31223.jpg  645b9bab420d28d9.jpg  b53a4de9b4bea170.jpg\n",
            "0fd9d4bcaadfa8d9.jpg  645bd66866c86510.jpg  b59ef8fe62821729.jpg\n",
            "0fe7bc2304cfe1ca.jpg  645cf26674ee078a.jpg  b5b0ec14ee01ae42.jpg\n",
            "0ff0db20a203b6bc.jpg  64700828c9f15108.jpg  b5d7486a03d3419a.jpg\n",
            "100969fc39e3b285.jpg  64f4174315280515.jpg  b62cf953eff680da.jpg\n",
            "103c31aba35acc13.jpg  653225edcea871be.jpg  b65198c5daeb3ead.jpg\n",
            "10c74a2809de8224.jpg  6552a65ff2f3e2a8.jpg  b6bbc7960f168ae8.jpg\n",
            "1136d295321d7fce.jpg  657ecd41acc91309.jpg  b6e0995c08fcd85e.jpg\n",
            "11af95ec36a8d39f.jpg  66352909b1bbedea.jpg  b7737a0008ceb80a.jpg\n",
            "120511cc5d8c92c6.jpg  66796cbc6cfb930d.jpg  b7b2898105c0b364.jpg\n",
            "120894700f7948e1.jpg  66b360964bfbe858.jpg  b7ce9edfb98e2391.jpg\n",
            "12698a0928a214cc.jpg  67a26e956c2a201a.jpg  b805ed0ffe082e5e.jpg\n",
            "1286e6b181d5617f.jpg  67c705fbe9ec197a.jpg  b83975ce83020822.jpg\n",
            "128b2b2c554d40ef.jpg  688db7dea390482d.jpg  b83fe016755a86b3.jpg\n",
            "128e6b4c9338aa02.jpg  68d28090339f8655.jpg  b841f87d90f7bb00.jpg\n",
            "12ab7a38be0206a1.jpg  68e6b90c96fb4718.jpg  b85c4201c3530911.jpg\n",
            "12e2035b1d37bce8.jpg  694993f578567028.jpg  b860f075a449c448.jpg\n",
            "133fbb126c1e0ae8.jpg  697417208d36737e.jpg  b868a476fe7bd48e.jpg\n",
            "137698af0f913d5d.jpg  69b4616743c0582f.jpg  b88c90edd21fba3f.jpg\n",
            "138a13ac07719f87.jpg  6a56251fdd2b65f2.jpg  b8b16dc66a2c6e2c.jpg\n",
            "13fddaaa65a18728.jpg  6a7796e0b95b14ac.jpg  b8d09a1469890d46.jpg\n",
            "141a875beda61e9a.jpg  6b0162ce047d254d.jpg  b90c4ac0a6dd6bf1.jpg\n",
            "14b3dd13a0411467.jpg  6b2cdc89aeb2ad46.jpg  b997bab706223f27.jpg\n",
            "14d6397c91531a74.jpg  6bb6476b5084eed2.jpg  b9c71bc4129207d6.jpg\n",
            "1544b16b14a8cd55.jpg  6c4a0e8aa98de814.jpg  b9f60a3f58d4850b.jpg\n",
            "156ed68fa4dd136b.jpg  6c7ee88106ce88b5.jpg  ba3889d9e546e9d6.jpg\n",
            "159cf7f4d4f4063b.jpg  6c83dd6e1900fe9e.jpg  ba8213da30f18458.jpg\n",
            "15f8aa9ffbeb938d.jpg  6c9216852f9f2a28.jpg  bae7e3f2d3d8035c.jpg\n",
            "160bb1b486e851e9.jpg  6d93a08f0516aa6a.jpg  bb1ff2edfa55a996.jpg\n",
            "163722661aaef829.jpg  6dce0f0d4708ef96.jpg  bb4f0df18d068e82.jpg\n",
            "16537d2253fc9b29.jpg  6de3030569c71677.jpg  bb5fbbf2a9659809.jpg\n",
            "16908d15b1cfeb1c.jpg  6e02d3a3405ac3d6.jpg  bbe2e43e9726645b.jpg\n",
            "16a5c6ef0e8fea55.jpg  6e2dc79660268455.jpg  bc1771ecc84a855a.jpg\n",
            "16cd378167c33a7d.jpg  6e6c9e31e77ac110.jpg  bc64c339b517754d.jpg\n",
            "16d2910ce1817be7.jpg  6ea0aad7454ec8e3.jpg  bc92c6ea7d7eeb57.jpg\n",
            "16d98f9e7618993c.jpg  6eb51095efb54bb5.jpg  bca06bcb32095818.jpg\n",
            "16f4ddfacf650fbf.jpg  6f0222db1bb32fff.jpg  bcdcbab51ec9ff06.jpg\n",
            "16f596084dbc44ad.jpg  6fee7a69cd4f0375.jpg  bce8f80614a9d10a.jpg\n",
            "171c8c974f41b58d.jpg  700141bf52efcb26.jpg  bcf09bf75b8488fb.jpg\n",
            "174e205dd55df03b.jpg  700af4664bf27c35.jpg  bd05fae00f9ad521.jpg\n",
            "18289c0cb8e6d65f.jpg  7055bb19b5df3e13.jpg  bd10ed287c4019d6.jpg\n",
            "1928511cab5ad8e8.jpg  70563f55b6306f52.jpg  bd491d8235c2fb05.jpg\n",
            "19303cb952815130.jpg  707e20529cd93b65.jpg  bd85bef8ff96ea47.jpg\n",
            "1955bab0a2c3dff9.jpg  70c661ebf05b4b33.jpg  be850d2318c445e8.jpg\n",
            "198e2f038f603dd2.jpg  715eceb7c11086de.jpg  bf238927e3f3d49e.jpg\n",
            "19ad6d4e7229c178.jpg  71a4bd667269fd00.jpg  bf2c46ae1c24f960.jpg\n",
            "19af7a036d8597cc.jpg  7201ba3862d4cd5e.jpg  bf369a46f31b5df9.jpg\n",
            "19e7314cb8e41e9e.jpg  720afee58feaf9d7.jpg  c0455cf29dcbbda0.jpg\n",
            "1a67554e460a5479.jpg  721215d6313e3eac.jpg  c09d7fb5a2b9e78d.jpg\n",
            "1ad24e6c6603b522.jpg  7254e49d19ffec76.jpg  c0a7819c42d98e58.jpg\n",
            "1ad3c256bb011f36.jpg  7281ee395e9f18f6.jpg  c0f50379c0f69ce7.jpg\n",
            "1b952c297c166c94.jpg  729f0a63b2cec3cf.jpg  c2e8bd55abf0c91e.jpg\n",
            "1bbd8d66781fb6e9.jpg  72da0481946a9985.jpg  c30ee19612da56ae.jpg\n",
            "1bed15e1294573a0.jpg  731cb8cd0831b221.jpg  c475e745850a6041.jpg\n",
            "1c614260552490eb.jpg  73cba583d0722c5e.jpg  c4ebdd0250695113.jpg\n",
            "1d3eddf902eb42af.jpg  73da56dff7e5c0c9.jpg  c540b800560b1aba.jpg\n",
            "1dadba8327d9dc28.jpg  73f78eb302d4fe8f.jpg  c56ab71871f24775.jpg\n",
            "1e27235941545ad3.jpg  743413af2c5692d4.jpg  c58f1e684aba239a.jpg\n",
            "1e4e41d20724a1ac.jpg  74cc45ce6f8159f4.jpg  c7595a45bf3690f8.jpg\n",
            "1e75e51460aa2a11.jpg  74d78338070d2b57.jpg  c791fd9b29faa28d.jpg\n",
            "1ecb147dfdbdde4e.jpg  7517092687cbff7a.jpg  c7cff18af4293ea4.jpg\n",
            "1ed6c631f5c6e5c6.jpg  754ad4bb0e9fc508.jpg  c849d9c5a915dfeb.jpg\n",
            "1eea0b73098c45cf.jpg  754ddbf413984676.jpg  c877d84a8fe6c08e.jpg\n",
            "1fd826bfa597ed47.jpg  75627c98340a0bf0.jpg  c8b62fbf1cf7d222.jpg\n",
            "1fefb79559bccec1.jpg  75e0821176435969.jpg  c8c6ddbc8aa3dede.jpg\n",
            "1ffdf53df6d88f07.jpg  7629cd32cc8828f6.jpg  c92bc90d88f54af9.jpg\n",
            "2021b2af9dd5f634.jpg  7693459c1ca0afef.jpg  c939c915d8b7288b.jpg\n",
            "204ec9082eac5d33.jpg  76aeac87489ed0be.jpg  c98294f8ab2ceb59.jpg\n",
            "206b907aada3b42f.jpg  774cd7c2b82edb24.jpg  c9bd6688b9977aa4.jpg\n",
            "20798335a26ec426.jpg  77d10f8cc0fc9428.jpg  c9be2520cf37a620.jpg\n",
            "207c6e2e24411fb8.jpg  77e9674f1d13e51d.jpg  c9d03522f09fe4d0.jpg\n",
            "20c65f9c2f1adbaa.jpg  77fee469b84c336c.jpg  c9e9a68f9965fb72.jpg\n",
            "2108781e30295dca.jpg  7844905b74ac4d5b.jpg  c9ea5a0be2da7ec7.jpg\n",
            "219c34b132bd2967.jpg  78a27f5c31aa9123.jpg  ca0a142ab60ce3be.jpg\n",
            "21a12241b671270a.jpg  78cc07e276865944.jpg  ca77784066265601.jpg\n",
            "21f73dd3b2f4124e.jpg  796b23f63dce228b.jpg  ca9fe66f74622392.jpg\n",
            "220c2764df453642.jpg  799ce7c818669e61.jpg  caa9a1ddd8788fa8.jpg\n",
            "221e68dffc5ab46a.jpg  79dae2a1265b15e8.jpg  cae34398557c37aa.jpg\n",
            "221faa23065d2a70.jpg  7a486f521c6ecd87.jpg  cae87fc29532b951.jpg\n",
            "22211a0a20d93e9e.jpg  7a674c296b88d607.jpg  caf07465b89c6753.jpg\n",
            "22287d3f24f88686.jpg  7a7c91467ebdf682.jpg  cb10bd8cfec746a7.jpg\n",
            "2253281151b2c516.jpg  7a9617f873d8819c.jpg  cb15f5584a836785.jpg\n",
            "22d86be75ced3869.jpg  7a990efacb23e8b6.jpg  cb19539e47089556.jpg\n",
            "23041999be0577b3.jpg  7ac3babe3d476df0.jpg  cb32e1c6df8a1f92.jpg\n",
            "2318d6ba71d82b3e.jpg  7aee091589031685.jpg  cb5354f1c5e72213.jpg\n",
            "231b48d2c3e45469.jpg  7b64d9a3c779c77d.jpg  cb71e1817d6fad80.jpg\n",
            "233a781ff9387c0d.jpg  7b7ab716e6d10a3a.jpg  cb75925d01808f14.jpg\n",
            "2385cbab5f994e68.jpg  7b9f2428f1e63b12.jpg  cb9d3edc48c289de.jpg\n",
            "23c9b8c2f2824f10.jpg  7ba8e101ced64992.jpg  cc1ff390c70100dc.jpg\n",
            "23caea3f60ab9476.jpg  7c25f650061ee174.jpg  cc3da6adcade90c7.jpg\n",
            "2447b7453a4a92d2.jpg  7c5bde2ae26950b3.jpg  cc8e886417b3a52a.jpg\n",
            "249909ecb3218f58.jpg  7c6204d4fa4bfdf2.jpg  ccba53fe084ab966.jpg\n",
            "249abcb313ae0c24.jpg  7c8e7d1b54bee20c.jpg  ccd579fdfa700895.jpg\n",
            "24bee365f8a5bc6a.jpg  7d369cb8d6cbd739.jpg  ccda896e69283910.jpg\n",
            "2535acab9da5d20e.jpg  7d7ba44b5200ebc6.jpg  ccece7b3a18d7a3c.jpg\n",
            "254f40d4ac436151.jpg  7ed876e7208b4132.jpg  cd3071ecef2cead1.jpg\n",
            "25982e2391ffcd07.jpg  7edf029e84517dcb.jpg  ce0748617f099161.jpg\n",
            "26e264a6467f4097.jpg  7ee40542dc6aac7d.jpg  cf3c02a8e0f71c65.jpg\n",
            "2713022b127af691.jpg  7f0a8a133ba2f8e8.jpg  cf6208d823d8ff13.jpg\n",
            "27434d8d911570e9.jpg  7f3bd82cca954180.jpg  cf7e8f7323e63dbb.jpg\n",
            "2776f0517d548205.jpg  7f86b30bf0a46ba8.jpg  cf9b2d67ba4119e8.jpg\n",
            "280ed37a069a2836.jpg  7fa59201cba8c84a.jpg  cfc7a9c30e5490ae.jpg\n",
            "28d14e509788aa3a.jpg  7fa7e12c9afa7052.jpg  cfc959f0580f8c4b.jpg\n",
            "28ef79fcb7ac9c4c.jpg  7fc76017c591410c.jpg  d15792fc63ee8558.jpg\n",
            "2914e5e1260409bb.jpg  7fcf9a1d07cbcf13.jpg  d16883553ffecfd6.jpg\n",
            "291f99b14e10d0a7.jpg  7fd7955c93352855.jpg  d194bf589d0cde7d.jpg\n",
            "29377e75057b22b0.jpg  80083d85866375e8.jpg  d24c46ca5429ddd2.jpg\n",
            "297dc9bda6170c85.jpg  80a49c802c6fbd9c.jpg  d33607c536a8bfaa.jpg\n",
            "298c7c5c9a25f105.jpg  80f30558e579dc53.jpg  d36ae708c9264850.jpg\n",
            "29a1de2d5e6d5a71.jpg  80f812baee412f57.jpg  d36e39d921c93d38.jpg\n",
            "2a695944263837c2.jpg  81067ccd99f0db7c.jpg  d393494e7af89d67.jpg\n",
            "2aae609c19143514.jpg  818e6dafe9313e6c.jpg  d3abdabd4e79e17f.jpg\n",
            "2ab17daae21ba415.jpg  81a10760f10c5be0.jpg  d42012f6997d7437.jpg\n",
            "2abfa05f9efe1bc3.jpg  81ee33ae6bdccb42.jpg  d4459c9fc5568cb3.jpg\n",
            "2b002294ececbe82.jpg  823955db297f1603.jpg  d46c36f3f16f8fd7.jpg\n",
            "2b23136107204be0.jpg  826ae03814202146.jpg  d52dbd7259c2e935.jpg\n",
            "2b38fc89c8056aa2.jpg  828970dba91fab15.jpg  d5996f6184980ccb.jpg\n",
            "2b6deefb6c5bfab6.jpg  828ae35ae0463594.jpg  d601c04827d28037.jpg\n",
            "2c2c933dfdcfd0f0.jpg  829ebe46c4af7626.jpg  d60d270e2afb4979.jpg\n",
            "2c44ade4354b38f0.jpg  82d7c9e440530abc.jpg  d63fb440d4bbcb0b.jpg\n",
            "2c916dadf61dabfa.jpg  836fb2a6675d2b18.jpg  d655c96e805e8bec.jpg\n",
            "2cbc2b04392629ce.jpg  83793920a30ebf72.jpg  d669289271087715.jpg\n",
            "2d07c2b77a06c8f1.jpg  83912107a2296daf.jpg  d716f8370c1c802b.jpg\n",
            "2dbb4a546d107596.jpg  83d17bbfe92fddfc.jpg  d727ff2a48da277b.jpg\n",
            "2de010e926530457.jpg  8406c9fd282438e7.jpg  d74c28a72a9304b4.jpg\n",
            "2de53f585b5c6291.jpg  84922760939d422c.jpg  d79c34fd21aba44c.jpg\n",
            "2e3fae9a18aec5c4.jpg  84c975e74cbad548.jpg  d8d07ade31eb5e45.jpg\n",
            "2e69523c967a51a4.jpg  84d619a632d63c8d.jpg  d928cea1d98d4135.jpg\n",
            "2e7177f70adc3d71.jpg  85449e14ff174af7.jpg  d92b166fe93d053d.jpg\n",
            "2e9ef29b90ecc8f0.jpg  854609241dfb0333.jpg  d97a991bad41341b.jpg\n",
            "2f25b6ca91e196d4.jpg  855b559ead0ae4f6.jpg  d9cac3c78fddcc46.jpg\n",
            "2f7c03db215fdb3f.jpg  8572a4694e10bdff.jpg  da1132df42fcb0dd.jpg\n",
            "2fb5c7002a7f978a.jpg  85bdb356240134a7.jpg  da4a51933298aa58.jpg\n",
            "3005d45b97ca98c8.jpg  85f0f6bb4e0131b1.jpg  da5aba90702e5a5a.jpg\n",
            "3056b78597b7b78f.jpg  8620973215805e23.jpg  da8a6f0fae5a71a2.jpg\n",
            "30bb04ef133e5305.jpg  8622b5dac1f9f20c.jpg  daaee1d1ffd908ce.jpg\n",
            "30f84e37a10eef77.jpg  8648fd49f80446d6.jpg  db0aa73332ef2c41.jpg\n",
            "30fdee3e9fc7ed42.jpg  865da0dc1a4fd22f.jpg  db347261c64e913a.jpg\n",
            "3122dcc3b237fc0d.jpg  8707842d1e5f70fc.jpg  db94c5baedd763f7.jpg\n",
            "3144e795491d4445.jpg  87b34fde0bbbb17f.jpg  db972ebdcef0274e.jpg\n",
            "3163d42b59864792.jpg  87bb9ae43ad0afe3.jpg  dc9b4f6407c3d1c2.jpg\n",
            "3206f61d421d5175.jpg  87bfd09319b28504.jpg  dcab9066ab6a5607.jpg\n",
            "3243be36d50751e6.jpg  87d38203581b3767.jpg  dd3b32308fda11b2.jpg\n",
            "3305f65ed601766d.jpg  87de929138ff2178.jpg  dddb42229af8b339.jpg\n",
            "334f941ad201a761.jpg  886eeec3611645a9.jpg  dddbc4b0c6dddcb8.jpg\n",
            "339de7dac192137b.jpg  88f67ad589d52444.jpg  de6e5fb80f7b4895.jpg\n",
            "340d1a8dfac947dd.jpg  892030c5c844e28f.jpg  dea0a9a646a6f805.jpg\n",
            "34b96473f8caea33.jpg  8951eb7cddabe6a0.jpg  deca90eda497c5eb.jpg\n",
            "350b8a0a5243f48e.jpg  89a79124d4139fdc.jpg  decbe34584bd5959.jpg\n",
            "351ea1a156b82a06.jpg  89b57b2b249103fe.jpg  dee88c8f14a9696f.jpg\n",
            "3520c6729cc39251.jpg  89fa6f7ab53dcbfa.jpg  df90a5f50fa8471e.jpg\n",
            "352d8f39c28cb1cf.jpg  8a4c542ecd86220c.jpg  dfcd36f44d410f21.jpg\n",
            "35a2a6ac625bea9e.jpg  8a543342265ee069.jpg  dff3b54b6fd22b75.jpg\n",
            "35db680dbbcd737b.jpg  8ac2130fbe2bba71.jpg  e02f59b6a2773791.jpg\n",
            "360fbcecdf089b17.jpg  8ac980ec749b2b4b.jpg  e04375a5fe025c76.jpg\n",
            "363cad7966dac647.jpg  8b46171e5088df44.jpg  e0b750343625094c.jpg\n",
            "36505f3f7388a3ad.jpg  8b4ef1a9cc85fd0e.jpg  e12b3a315462794a.jpg\n",
            "3665de390578df06.jpg  8b653dd8366d1e1a.jpg  e12d9bfc58902413.jpg\n",
            "368367c96a7c7ce5.jpg  8ba6eeb22e61fdd0.jpg  e13538ad0bb90e4f.jpg\n",
            "36a1b06c688b0b84.jpg  8bb592f5e0680b53.jpg  e15a2771f1ded329.jpg\n",
            "36d2eb6dd0a12b5c.jpg  8c2503d7913d50e2.jpg  e183168cdfb58e2e.jpg\n",
            "371f6dfa9ea14bf7.jpg  8c3c43f9ce862281.jpg  e1c839f764c885f2.jpg\n",
            "37582ddb036e5ec7.jpg  8cae39ef0c53b5e8.jpg  e1e46103f28239a3.jpg\n",
            "37c44170042cf1f5.jpg  8d14ac13e59f1bf5.jpg  e24830241f9b12b1.jpg\n",
            "382df52778e3c110.jpg  8d648b6a5bb481f5.jpg  e2c22594a4de9fcf.jpg\n",
            "3862911036f3f486.jpg  8d7a28224bb400ea.jpg  e32a908fdad2f1f1.jpg\n",
            "38de684d7fd86ab9.jpg  8d8512800a6aab2c.jpg  e33d77ed38aad4a1.jpg\n",
            "38e8a885bf9f916c.jpg  8db9e9ee1e9c6310.jpg  e376474dcd67bde7.jpg\n",
            "3911aab8a9b78187.jpg  8df08ad869709fe6.jpg  e37a97d7217787d7.jpg\n",
            "391f4f4c9f3ded16.jpg  8e0bf196a1d6120d.jpg  e3aa972e89ce2c9f.jpg\n",
            "392e6b761ab8cafa.jpg  8e44a17b49cb0717.jpg  e404440a5bfead11.jpg\n",
            "39905156c187fe12.jpg  8eb9f4f21d09c0d6.jpg  e43da253fe97b5f0.jpg\n",
            "3a0b7e7e2e531aae.jpg  8eeeb6607f0eaff5.jpg  e4d0beaa566bb9d0.jpg\n",
            "3a577f33aa764b7e.jpg  8f8ed017c890530e.jpg  e4ff57c038aaed99.jpg\n",
            "3a66e87b42711a7b.jpg  8fb3310b6259d3f0.jpg  e52e8463db05b619.jpg\n",
            "3ab18a26d2178c04.jpg  8fb9b4da8909179d.jpg  e56fd6fd92ec7672.jpg\n",
            "3af664c2699a77e7.jpg  8fc4341386833b01.jpg  e5727ac5ffbf0810.jpg\n",
            "3b305c3a05025eb3.jpg  8fc468c49597b1f8.jpg  e5d0f21152c3c4c1.jpg\n",
            "3b505c92c5acd9cd.jpg  8ff2937c7a887939.jpg  e601fce5afb965ae.jpg\n",
            "3b66497e7f223d3f.jpg  901f4525eb36d98f.jpg  e63bd46c55e829c0.jpg\n",
            "3baf33d3d764d910.jpg  9038555d78d712e2.jpg  e6409c0bf89037de.jpg\n",
            "3bc250dcf07fc386.jpg  9038cbdaf15128b1.jpg  e67581fc8b5ed694.jpg\n",
            "3c0e899b612491b4.jpg  90ea3e851c8732f8.jpg  e6d63e1977f6aabb.jpg\n",
            "3c4b62437451c47c.jpg  91004c878ec3e2b2.jpg  e700e6a464d9c3a2.jpg\n",
            "3c86721a78362182.jpg  910325aa1519b2d1.jpg  e7fe4a111571786f.jpg\n",
            "3caa0f34a4b1a1d0.jpg  91a3c4029d18abbd.jpg  e82996f4c8f6911d.jpg\n",
            "3cd400ea445039df.jpg  91b71b1d45acfef9.jpg  e87afb3ecee2860e.jpg\n",
            "3d03aa3bba9b3c0c.jpg  92082ed6d200d1eb.jpg  e88d0feb9771f3d6.jpg\n",
            "3ddb4f4a94a92988.jpg  92391c6e3be05f05.jpg  e8a117aeabce43d9.jpg\n",
            "3dec55a91b478708.jpg  924acceede931d9e.jpg  e8c5179dfc7038ab.jpg\n",
            "3e3d3426a8ac4458.jpg  9253675cafc1dfca.jpg  e90820609fd0a75e.jpg\n",
            "3e6f948f17abfbf8.jpg  92711e4ffbde375e.jpg  e94ef8c9366afd05.jpg\n",
            "3e92b754355af10a.jpg  92838520daa9d0f8.jpg  e95c1be583157fa3.jpg\n",
            "3ed82a098449793b.jpg  936649983c2dc128.jpg  e972fcc1f9f5a01c.jpg\n",
            "3f0e4db4482b3544.jpg  940a9c9bef7d9db6.jpg  ea1e8db988a6a3fe.jpg\n",
            "3fb62b3d3e3fda43.jpg  947a3c8360e3e7ee.jpg  ea877e8726a84da0.jpg\n",
            "3ffb2a674f39dced.jpg  94b7c308dc175f2f.jpg  eaa5824697efe2e0.jpg\n",
            "4005eadcac9bb765.jpg  9532400d126b1ac7.jpg  eb191614783f1b44.jpg\n",
            "400a87d9250b0c3a.jpg  9633efd8f654dd0a.jpg  eb2d6e48e709582b.jpg\n",
            "4017af4cae5552ef.jpg  965c1713addf0ff6.jpg  ebbb944829f9b060.jpg\n",
            "40319f3418bcd730.jpg  9689384e6be6b968.jpg  ebd4c736b45e7a96.jpg\n",
            "4070a38ce3131150.jpg  96bcb13a19a8a0cd.jpg  ebe09d6f01ee765e.jpg\n",
            "40994ce88c5132ed.jpg  96ee339ace0bdabb.jpg  ece0a381620fcb90.jpg\n",
            "40cbbea350ddbf3c.jpg  96f68506a03f14d3.jpg  eda836d5fae8ea1b.jpg\n",
            "40e83356c487cd7a.jpg  970feeb3662294d4.jpg  edaf9f9e0f628b5a.jpg\n",
            "416e308754b5bd6d.jpg  9735462d2bcc8dac.jpg  eddfe21663b4423e.jpg\n",
            "4182da0e8167421d.jpg  979523cf3fcffda4.jpg  ee2ae61736a11f8e.jpg\n",
            "42069c962fc9a7e0.jpg  97a07c999cec2a81.jpg  eef47bb845ecd444.jpg\n",
            "420b647746a9ba50.jpg  97c03dda2abea572.jpg  ef15fd6ddd44c713.jpg\n",
            "425ef4d0e1923135.jpg  97f51a9bccd50dd0.jpg  efaaad70cbbd88d8.jpg\n",
            "426789a2884e3186.jpg  9815dece5f23f810.jpg  f0310b6c96cdd646.jpg\n",
            "42b15ba564dfc572.jpg  986d4ee4a7181282.jpg  f0d47f5ddb53cd08.jpg\n",
            "42c4662d46192051.jpg  98760ba4a3c5c2da.jpg  f0f5f2c9ca0b8f5c.jpg\n",
            "42e5105f424e81cb.jpg  98a357d75447ec69.jpg  f147a3adfe36a1c4.jpg\n",
            "434b19d70efe2453.jpg  98b3894381bf8646.jpg  f1cfc605502e5f37.jpg\n",
            "43bd04e0afa98555.jpg  98d4604c448bb98d.jpg  f1db91a000f8fb85.jpg\n",
            "43e9ad07af8dab06.jpg  98d7f9fd7bc452e5.jpg  f201a7a2d9ea9095.jpg\n",
            "4599127b102232d9.jpg  99284545a58c6ec9.jpg  f295b0ba7c283690.jpg\n",
            "45a3c6d57c01a257.jpg  99d47ddb3ec837ff.jpg  f2e45da6abc5892e.jpg\n",
            "45ab984c469aeb10.jpg  99f6d2aa49a39ac5.jpg  f3802e929bad0821.jpg\n",
            "45d921bc5f434402.jpg  9a01b34d9cbc797e.jpg  f3f9bdd0ad9ce07a.jpg\n",
            "462437112d9808c5.jpg  9a69c2fb5bbf29fc.jpg  f3fbf342487be677.jpg\n",
            "463b421d41244c47.jpg  9a69e9827d350ff2.jpg  f4195d431b32160f.jpg\n",
            "464d3ed0cb04a00e.jpg  9b065432e50194c1.jpg  f41fb2963a9702fb.jpg\n",
            "464fe69901b44286.jpg  9b0a5b78d8247807.jpg  f440b19398c9af2f.jpg\n",
            "4679df1a22909dfe.jpg  9b2689456105a83a.jpg  f446e1227c6de3a8.jpg\n",
            "46a3feb071075a04.jpg  9b3c4d1b3ac53d73.jpg  f47880cf32b9f9db.jpg\n",
            "46c288e5322f49a8.jpg  9b3d29a7a46750d7.jpg  f49f9adc293f33eb.jpg\n",
            "46df66e8e5915189.jpg  9b4cba2cba252f7a.jpg  f59be0186c5f2cf0.jpg\n",
            "46fa0b25b1f0f9e1.jpg  9b9ba36c7b0191eb.jpg  f6263d03df3c9e33.jpg\n",
            "46fd6dddf9663046.jpg  9c473ce801b74c45.jpg  f631f8781d02db41.jpg\n",
            "46fe5ef12ca3aa33.jpg  9d3eb0f50b909136.jpg  f6fd3d3420c46ac9.jpg\n",
            "47a487b37aaa9077.jpg  9d59c6030858ba1e.jpg  f7a8b270d954c917.jpg\n",
            "488212b4ed5fa755.jpg  9d741a935e429c48.jpg  f7d4859548375706.jpg\n",
            "48997532d8dc37df.jpg  9dce4f107c8630f8.jpg  f7fb4ca88754c850.jpg\n",
            "489ea1908dc4c957.jpg  9dd6a802faa034b8.jpg  f86016451f553914.jpg\n",
            "495f133da61cb030.jpg  9dd79856ee487ece.jpg  f8c1c91a7f1eb5e8.jpg\n",
            "4961f1434bbae4d4.jpg  9de49abcc782887f.jpg  f9e0817caf159d0a.jpg\n",
            "497c28a498501acd.jpg  9de7cf1293b8f32d.jpg  fad00c2874fa9cf3.jpg\n",
            "49a2ca69bf814196.jpg  9e8d555895eccefb.jpg  fafd921447a0aa2d.jpg\n",
            "4a28958c527aff70.jpg  9eb5097c0b88629b.jpg  fb11b227ad0ade70.jpg\n",
            "4aa3d27fee406632.jpg  9eb83ecdecaf5d6e.jpg  fb863929e37b900a.jpg\n",
            "4b01d36d051c10a5.jpg  9ef65ce983856fed.jpg  fc22563f91bee657.jpg\n",
            "4b2f2b787e17a6fb.jpg  9f4837741da496ba.jpg  fc29456551a889d5.jpg\n",
            "4b4d2988aa51f735.jpg  9f8622f76f193091.jpg  fc32268c20e46462.jpg\n",
            "4b7f2b926d19de9c.jpg  9fe7697b0276c47d.jpg  fc4d8478ca0bea3c.jpg\n",
            "4b9ee0827e9b1fbe.jpg  a01ccaa1c4f46afe.jpg  fc9ae5aebf6b3371.jpg\n",
            "4ba4b7b9dcd549ae.jpg  a048d01013a2920c.jpg  fd46fce7c6d448a5.jpg\n",
            "4bc70e167f4af585.jpg  a064b1190835ce59.jpg  fe2912ff1742b6fa.jpg\n",
            "4bc999fe7d3e86b6.jpg  a0658b2953f5ea6b.jpg  fe61d9ee940458b8.jpg\n",
            "4c7fd79e1b59cbf4.jpg  a0a636d19cf64733.jpg  fea07643c0bf7a4d.jpg\n",
            "4d47a1c3a3f7f2a2.jpg  a0a833c9eae8aada.jpg  ff2623d19cdad715.jpg\n",
            "4d5ddce220de1c31.jpg  a13a433a0a81ca8d.jpg  ff9ca989fdfca753.jpg\n",
            "4db897e2c8b69e1f.jpg  a1ea4cd479c8626a.jpg  ffa946b12c0c9728.jpg\n",
            "4dbabec409cd4ffb.jpg  a1f7bf649c10c995.jpg  \u001b[0m\u001b[01;34mLabel\u001b[0m/\n",
            "4df37f35b238243d.jpg  a2219fe6e7cda613.jpg  train_labels.csv\n",
            "4e16c786cc59609e.jpg  a25a94cdf70a2d2c.jpg  \u001b[01;34mVOC\u001b[0m/\n",
            "4e73ba89c5568071.jpg  a260ac7883424736.jpg\n",
            "4e7ca176ea117752.jpg  a26f74be46cf61fb.jpg\n"
          ],
          "name": "stdout"
        }
      ]
    },
    {
      "cell_type": "code",
      "metadata": {
        "id": "Eb_c8c82SEmQ",
        "colab_type": "code",
        "colab": {}
      },
      "source": [
        "%cp /content/drive/My\\ Drive/RCNN/OIDCv4_v1/Dataset/train/Street\\ light/*.jpg /content/slight/train/"
      ],
      "execution_count": 0,
      "outputs": []
    },
    {
      "cell_type": "code",
      "metadata": {
        "id": "5XBdveNGSlSV",
        "colab_type": "code",
        "outputId": "6bb0db41-11cf-44ab-c675-c5842a76d53f",
        "colab": {
          "base_uri": "https://localhost:8080/",
          "height": 1000
        }
      },
      "source": [
        "!ls slight/train"
      ],
      "execution_count": 0,
      "outputs": [
        {
          "output_type": "stream",
          "text": [
            "0000e2d480cfb105.jpg  4e7ca176ea117752.jpg  a260ac7883424736.jpg\n",
            "000355964e21d5c7.jpg  4ea75e4ddb6129af.jpg  a26f74be46cf61fb.jpg\n",
            "0015523d58b8b1e7.jpg  4ee2d088722800f2.jpg  a293b36bf43dc0f3.jpg\n",
            "0020cd5fb7cf6d5e.jpg  4ef7d10735f76db3.jpg  a2d80415e7f76612.jpg\n",
            "00250fb6c81181d6.jpg  4f77c2a5992016b3.jpg  a339a497a45027d6.jpg\n",
            "0026a8c29faa63e9.jpg  4f9a87671d660356.jpg  a3cd6944cc3883cc.jpg\n",
            "0027826cd655b7c6.jpg  4fa0913e95af3e09.jpg  a41f58651b782e4e.jpg\n",
            "002b4d2ccc95819d.jpg  5056b58c0c661096.jpg  a42749a464b0161e.jpg\n",
            "002f0e414500624e.jpg  5061590bb6d8e189.jpg  a453813e67afb171.jpg\n",
            "0034765f1e45e1ea.jpg  506286c8f3ca1d50.jpg  a4905ede9bc1e90e.jpg\n",
            "0036d776ad7672bd.jpg  50be9b29edaa8e4a.jpg  a4b83193c2fb807a.jpg\n",
            "003b9d6b1cc93326.jpg  50cf2dd9b1dcf984.jpg  a4be42890b7c4cf5.jpg\n",
            "003e0a32bcc2c475.jpg  51077a1d18a6e035.jpg  a4ce03ebaad00ccf.jpg\n",
            "00455fd9002bce36.jpg  5149100aa7295594.jpg  a4d4255be9f204b6.jpg\n",
            "00613b86a38ca03b.jpg  514bf1acd6816cf7.jpg  a5265134a7785d56.jpg\n",
            "006804e54836bd4e.jpg  51e6e2a20e8468b8.jpg  a57265140c26cfda.jpg\n",
            "0080f28c6886f551.jpg  520f064501129029.jpg  a59e4d9e239feb7a.jpg\n",
            "009ebcfcb102ead8.jpg  52a0376e5aa4aa1f.jpg  a65cec703396af37.jpg\n",
            "00a1a64109c70d3f.jpg  52ba5f94a7b01663.jpg  a6784561f779474f.jpg\n",
            "00a2f238116b247a.jpg  530ee4bd52dd39b0.jpg  a6986ddc861467da.jpg\n",
            "00a8af5f80b52933.jpg  535f45edf7181e10.jpg  a6a8ddb75bb0e67d.jpg\n",
            "00dd203507624d78.jpg  5369e50fc1936fda.jpg  a6de2a259c052b64.jpg\n",
            "00eac92a6c1be596.jpg  53ce877096c0f88c.jpg  a76a22d619733ea8.jpg\n",
            "01239656195af1e4.jpg  53f0112db62dc8d1.jpg  a7a18e4942e69c08.jpg\n",
            "013f266be11ffc96.jpg  54292e8ef773acd0.jpg  a7bc21cc55830a46.jpg\n",
            "014dc8d047641390.jpg  54b9febc590b135b.jpg  a7c1df211369486d.jpg\n",
            "01513089c2e998ed.jpg  55adfbf18fd2a1d9.jpg  a7e6b9c1e304fc44.jpg\n",
            "0162770a9b78644a.jpg  55f57071707d5ddc.jpg  a7f783a19f6dcc14.jpg\n",
            "017d50b8f36de046.jpg  56970159256c3eb7.jpg  a9063c77e4a6a395.jpg\n",
            "02017785f729b701.jpg  56a692d144e25eac.jpg  a92ff5a76528acd5.jpg\n",
            "025ab150bbde7344.jpg  5733b0a865ad690f.jpg  a93c5a22a433d88f.jpg\n",
            "025cccfcc96a32b7.jpg  5758330db5f1e7e4.jpg  aa02f86766f027e0.jpg\n",
            "027839de88e3469e.jpg  578863b8cf9aa81d.jpg  aa0596a636d40b28.jpg\n",
            "03565e3e848305f5.jpg  579ce36bb4927828.jpg  aa22556ee003fef4.jpg\n",
            "040d6274e3cb87e7.jpg  57b4d45d95408293.jpg  ab20f03d349c2b3a.jpg\n",
            "0442cde8b29785b7.jpg  584d66526b33fbdb.jpg  ab8f967f95401ba2.jpg\n",
            "044ca05d2a28df88.jpg  58778c96a31b9ca4.jpg  aba013a2d630d7e4.jpg\n",
            "04532d386fcee8b4.jpg  5912a64b2338ac4f.jpg  abb73523fe4ae618.jpg\n",
            "048068e98c2c519c.jpg  591d15928f21210b.jpg  abcd8aec3ce4e40c.jpg\n",
            "049a09fab678c690.jpg  59589dcd5262de28.jpg  ac5276ef8662a909.jpg\n",
            "04e2508dd057fe50.jpg  5abe77662b71b5c3.jpg  aca4b1e4f80cadaa.jpg\n",
            "05058c6902458322.jpg  5aff9c26236231b7.jpg  ad913bb7ba976250.jpg\n",
            "051697b1111e9aaa.jpg  5bab2453d078626e.jpg  adf1059439ab4489.jpg\n",
            "05290fd9390c48c7.jpg  5c7ebe0e1a684188.jpg  ae86390d113f9379.jpg\n",
            "055177453d6bc1f2.jpg  5ca6623f9fcb3790.jpg  aeaf860e87b8afe8.jpg\n",
            "05a24341f0a6bd37.jpg  5d0ae3f659ccce04.jpg  aecc3fc3dbfe08dc.jpg\n",
            "065a04ba51f09f91.jpg  5d5d09bc418b44b7.jpg  aeeb59e06968b01e.jpg\n",
            "0775faca41cebbe5.jpg  5d9dd4bff9aacc34.jpg  af08c09a9fd1dec6.jpg\n",
            "07af9736ddbeb8f5.jpg  5e15c09a2050cc7d.jpg  af0c3d26dc66fd3e.jpg\n",
            "07c7cb537505fcca.jpg  5e30dd6be64a9fc3.jpg  af1610d605c61dc2.jpg\n",
            "07cb3aa69d9c9f9c.jpg  5e41c42d224d0879.jpg  af7433cb205ddb66.jpg\n",
            "081aba98d72644b3.jpg  5ea8272976c45e2c.jpg  af77dd3954f2ff41.jpg\n",
            "0855200c981ab6a0.jpg  5f12b532276feca2.jpg  af8bf370f7407ae4.jpg\n",
            "0876535925092a28.jpg  5f73f808460704a0.jpg  afaaff3227bf25d5.jpg\n",
            "08bf2fa1c80817c2.jpg  5f8e769b949cb423.jpg  afc2f01370c775d8.jpg\n",
            "098dff06c42b8159.jpg  5f9f5d6ac561399d.jpg  afdcc264863b6bc2.jpg\n",
            "09bb2dc88fe74522.jpg  5fb889f4e6e4b6e7.jpg  afef75fa949e9481.jpg\n",
            "09e42450f57e635f.jpg  6007263d1689956a.jpg  b08242206a508e33.jpg\n",
            "0a495bd0e6b9e7da.jpg  602353ca7c1bbd2e.jpg  b0b0ce489cf1f6ed.jpg\n",
            "0a91a6a55d87dc84.jpg  602bdd6124a66b28.jpg  b11331ffdc4a93a4.jpg\n",
            "0a9df41f5a0cf02f.jpg  6076357b5acc1f68.jpg  b127b0860a8801fd.jpg\n",
            "0a9fba5f2f31ff37.jpg  60985b80374de9c0.jpg  b15a4d785c1047eb.jpg\n",
            "0acaff5d369a055f.jpg  60b655d97f205e8d.jpg  b15bdd2a258a8407.jpg\n",
            "0af5b13a8bae538f.jpg  60fcea0c17422bbb.jpg  b1f6f87eafc96882.jpg\n",
            "0bcb87abe4e8f4b8.jpg  6149bfb51e288915.jpg  b2b15632736e06ff.jpg\n",
            "0dc1c834fadd319b.jpg  6248c0d7e82d3ad0.jpg  b2dcc3957497a3da.jpg\n",
            "0de6d09228028fd3.jpg  624ac0475236f8ce.jpg  b34955ac5b9ea3fc.jpg\n",
            "0e22e5e9acefd1a8.jpg  62b4e103b6c41916.jpg  b3b7bada7a257dd5.jpg\n",
            "0e33e178bd3ae502.jpg  6354b1801b3d5c7c.jpg  b40f7d1fb039831b.jpg\n",
            "0e4d50629e10f191.jpg  63c58d54221cfe82.jpg  b42247df01f13fd9.jpg\n",
            "0f1283372ecba3b5.jpg  640a43e5d2904ad6.jpg  b4313b44e8473760.jpg\n",
            "0f30cc97d5d6b30c.jpg  6431fcc62195d5dc.jpg  b457b3ba16fda1ae.jpg\n",
            "0f7f1a7305b31223.jpg  645a16c63661d0e5.jpg  b4b164a8c1488512.jpg\n",
            "0fd9d4bcaadfa8d9.jpg  645b9bab420d28d9.jpg  b4fde637b691eb0e.jpg\n",
            "0fe7bc2304cfe1ca.jpg  645bd66866c86510.jpg  b53a4de9b4bea170.jpg\n",
            "0ff0db20a203b6bc.jpg  645cf26674ee078a.jpg  b59ef8fe62821729.jpg\n",
            "100969fc39e3b285.jpg  64700828c9f15108.jpg  b5b0ec14ee01ae42.jpg\n",
            "103c31aba35acc13.jpg  64f4174315280515.jpg  b5d7486a03d3419a.jpg\n",
            "10c74a2809de8224.jpg  653225edcea871be.jpg  b62cf953eff680da.jpg\n",
            "1136d295321d7fce.jpg  6552a65ff2f3e2a8.jpg  b65198c5daeb3ead.jpg\n",
            "11af95ec36a8d39f.jpg  657ecd41acc91309.jpg  b6bbc7960f168ae8.jpg\n",
            "120511cc5d8c92c6.jpg  66352909b1bbedea.jpg  b6e0995c08fcd85e.jpg\n",
            "120894700f7948e1.jpg  66796cbc6cfb930d.jpg  b7737a0008ceb80a.jpg\n",
            "12698a0928a214cc.jpg  66b360964bfbe858.jpg  b7b2898105c0b364.jpg\n",
            "1286e6b181d5617f.jpg  67a26e956c2a201a.jpg  b7ce9edfb98e2391.jpg\n",
            "128b2b2c554d40ef.jpg  67c705fbe9ec197a.jpg  b805ed0ffe082e5e.jpg\n",
            "128e6b4c9338aa02.jpg  688db7dea390482d.jpg  b83975ce83020822.jpg\n",
            "12ab7a38be0206a1.jpg  68d28090339f8655.jpg  b83fe016755a86b3.jpg\n",
            "12e2035b1d37bce8.jpg  68e6b90c96fb4718.jpg  b841f87d90f7bb00.jpg\n",
            "133fbb126c1e0ae8.jpg  694993f578567028.jpg  b85c4201c3530911.jpg\n",
            "137698af0f913d5d.jpg  697417208d36737e.jpg  b860f075a449c448.jpg\n",
            "138a13ac07719f87.jpg  69b4616743c0582f.jpg  b868a476fe7bd48e.jpg\n",
            "13fddaaa65a18728.jpg  6a56251fdd2b65f2.jpg  b88c90edd21fba3f.jpg\n",
            "141a875beda61e9a.jpg  6a7796e0b95b14ac.jpg  b8b16dc66a2c6e2c.jpg\n",
            "14b3dd13a0411467.jpg  6b0162ce047d254d.jpg  b8d09a1469890d46.jpg\n",
            "14d6397c91531a74.jpg  6b2cdc89aeb2ad46.jpg  b90c4ac0a6dd6bf1.jpg\n",
            "1544b16b14a8cd55.jpg  6bb6476b5084eed2.jpg  b997bab706223f27.jpg\n",
            "156ed68fa4dd136b.jpg  6c4a0e8aa98de814.jpg  b9c71bc4129207d6.jpg\n",
            "159cf7f4d4f4063b.jpg  6c7ee88106ce88b5.jpg  b9f60a3f58d4850b.jpg\n",
            "15f8aa9ffbeb938d.jpg  6c83dd6e1900fe9e.jpg  ba3889d9e546e9d6.jpg\n",
            "160bb1b486e851e9.jpg  6c9216852f9f2a28.jpg  ba8213da30f18458.jpg\n",
            "163722661aaef829.jpg  6d93a08f0516aa6a.jpg  bae7e3f2d3d8035c.jpg\n",
            "16537d2253fc9b29.jpg  6dce0f0d4708ef96.jpg  bb1ff2edfa55a996.jpg\n",
            "16908d15b1cfeb1c.jpg  6de3030569c71677.jpg  bb4f0df18d068e82.jpg\n",
            "16a5c6ef0e8fea55.jpg  6e02d3a3405ac3d6.jpg  bb5fbbf2a9659809.jpg\n",
            "16cd378167c33a7d.jpg  6e2dc79660268455.jpg  bbe2e43e9726645b.jpg\n",
            "16d2910ce1817be7.jpg  6e6c9e31e77ac110.jpg  bc1771ecc84a855a.jpg\n",
            "16d98f9e7618993c.jpg  6ea0aad7454ec8e3.jpg  bc64c339b517754d.jpg\n",
            "16f4ddfacf650fbf.jpg  6eb51095efb54bb5.jpg  bc92c6ea7d7eeb57.jpg\n",
            "16f596084dbc44ad.jpg  6f0222db1bb32fff.jpg  bca06bcb32095818.jpg\n",
            "171c8c974f41b58d.jpg  6fee7a69cd4f0375.jpg  bcdcbab51ec9ff06.jpg\n",
            "174e205dd55df03b.jpg  700141bf52efcb26.jpg  bce8f80614a9d10a.jpg\n",
            "18289c0cb8e6d65f.jpg  700af4664bf27c35.jpg  bcf09bf75b8488fb.jpg\n",
            "1928511cab5ad8e8.jpg  7055bb19b5df3e13.jpg  bd05fae00f9ad521.jpg\n",
            "19303cb952815130.jpg  70563f55b6306f52.jpg  bd10ed287c4019d6.jpg\n",
            "1955bab0a2c3dff9.jpg  707e20529cd93b65.jpg  bd491d8235c2fb05.jpg\n",
            "198e2f038f603dd2.jpg  70c661ebf05b4b33.jpg  bd85bef8ff96ea47.jpg\n",
            "19ad6d4e7229c178.jpg  715eceb7c11086de.jpg  be850d2318c445e8.jpg\n",
            "19af7a036d8597cc.jpg  71a4bd667269fd00.jpg  bf238927e3f3d49e.jpg\n",
            "19e7314cb8e41e9e.jpg  7201ba3862d4cd5e.jpg  bf2c46ae1c24f960.jpg\n",
            "1a67554e460a5479.jpg  720afee58feaf9d7.jpg  bf369a46f31b5df9.jpg\n",
            "1ad24e6c6603b522.jpg  721215d6313e3eac.jpg  c0455cf29dcbbda0.jpg\n",
            "1ad3c256bb011f36.jpg  7254e49d19ffec76.jpg  c09d7fb5a2b9e78d.jpg\n",
            "1b952c297c166c94.jpg  7281ee395e9f18f6.jpg  c0a7819c42d98e58.jpg\n",
            "1bbd8d66781fb6e9.jpg  729f0a63b2cec3cf.jpg  c0f50379c0f69ce7.jpg\n",
            "1bed15e1294573a0.jpg  72da0481946a9985.jpg  c2e8bd55abf0c91e.jpg\n",
            "1c614260552490eb.jpg  731cb8cd0831b221.jpg  c30ee19612da56ae.jpg\n",
            "1d3eddf902eb42af.jpg  73cba583d0722c5e.jpg  c475e745850a6041.jpg\n",
            "1dadba8327d9dc28.jpg  73da56dff7e5c0c9.jpg  c4ebdd0250695113.jpg\n",
            "1e27235941545ad3.jpg  73f78eb302d4fe8f.jpg  c540b800560b1aba.jpg\n",
            "1e4e41d20724a1ac.jpg  743413af2c5692d4.jpg  c56ab71871f24775.jpg\n",
            "1e75e51460aa2a11.jpg  74cc45ce6f8159f4.jpg  c58f1e684aba239a.jpg\n",
            "1ecb147dfdbdde4e.jpg  74d78338070d2b57.jpg  c7595a45bf3690f8.jpg\n",
            "1ed6c631f5c6e5c6.jpg  7517092687cbff7a.jpg  c791fd9b29faa28d.jpg\n",
            "1eea0b73098c45cf.jpg  754ad4bb0e9fc508.jpg  c7cff18af4293ea4.jpg\n",
            "1fd826bfa597ed47.jpg  754ddbf413984676.jpg  c849d9c5a915dfeb.jpg\n",
            "1fefb79559bccec1.jpg  75627c98340a0bf0.jpg  c877d84a8fe6c08e.jpg\n",
            "1ffdf53df6d88f07.jpg  75e0821176435969.jpg  c8b62fbf1cf7d222.jpg\n",
            "2021b2af9dd5f634.jpg  7629cd32cc8828f6.jpg  c8c6ddbc8aa3dede.jpg\n",
            "204ec9082eac5d33.jpg  7693459c1ca0afef.jpg  c92bc90d88f54af9.jpg\n",
            "206b907aada3b42f.jpg  76aeac87489ed0be.jpg  c939c915d8b7288b.jpg\n",
            "20798335a26ec426.jpg  774cd7c2b82edb24.jpg  c98294f8ab2ceb59.jpg\n",
            "207c6e2e24411fb8.jpg  77d10f8cc0fc9428.jpg  c9bd6688b9977aa4.jpg\n",
            "20c65f9c2f1adbaa.jpg  77e9674f1d13e51d.jpg  c9be2520cf37a620.jpg\n",
            "2108781e30295dca.jpg  77fee469b84c336c.jpg  c9d03522f09fe4d0.jpg\n",
            "219c34b132bd2967.jpg  7844905b74ac4d5b.jpg  c9e9a68f9965fb72.jpg\n",
            "21a12241b671270a.jpg  78a27f5c31aa9123.jpg  c9ea5a0be2da7ec7.jpg\n",
            "21f73dd3b2f4124e.jpg  78cc07e276865944.jpg  ca0a142ab60ce3be.jpg\n",
            "220c2764df453642.jpg  796b23f63dce228b.jpg  ca77784066265601.jpg\n",
            "221e68dffc5ab46a.jpg  799ce7c818669e61.jpg  ca9fe66f74622392.jpg\n",
            "221faa23065d2a70.jpg  79dae2a1265b15e8.jpg  caa9a1ddd8788fa8.jpg\n",
            "22211a0a20d93e9e.jpg  7a486f521c6ecd87.jpg  cae34398557c37aa.jpg\n",
            "22287d3f24f88686.jpg  7a674c296b88d607.jpg  cae87fc29532b951.jpg\n",
            "2253281151b2c516.jpg  7a7c91467ebdf682.jpg  caf07465b89c6753.jpg\n",
            "22d86be75ced3869.jpg  7a9617f873d8819c.jpg  cb10bd8cfec746a7.jpg\n",
            "23041999be0577b3.jpg  7a990efacb23e8b6.jpg  cb15f5584a836785.jpg\n",
            "2318d6ba71d82b3e.jpg  7ac3babe3d476df0.jpg  cb19539e47089556.jpg\n",
            "231b48d2c3e45469.jpg  7aee091589031685.jpg  cb32e1c6df8a1f92.jpg\n",
            "233a781ff9387c0d.jpg  7b64d9a3c779c77d.jpg  cb5354f1c5e72213.jpg\n",
            "2385cbab5f994e68.jpg  7b7ab716e6d10a3a.jpg  cb71e1817d6fad80.jpg\n",
            "23c9b8c2f2824f10.jpg  7b9f2428f1e63b12.jpg  cb75925d01808f14.jpg\n",
            "23caea3f60ab9476.jpg  7ba8e101ced64992.jpg  cb9d3edc48c289de.jpg\n",
            "2447b7453a4a92d2.jpg  7c25f650061ee174.jpg  cc1ff390c70100dc.jpg\n",
            "249909ecb3218f58.jpg  7c5bde2ae26950b3.jpg  cc3da6adcade90c7.jpg\n",
            "249abcb313ae0c24.jpg  7c6204d4fa4bfdf2.jpg  cc8e886417b3a52a.jpg\n",
            "24bee365f8a5bc6a.jpg  7c8e7d1b54bee20c.jpg  ccba53fe084ab966.jpg\n",
            "2535acab9da5d20e.jpg  7d369cb8d6cbd739.jpg  ccd579fdfa700895.jpg\n",
            "254f40d4ac436151.jpg  7d7ba44b5200ebc6.jpg  ccda896e69283910.jpg\n",
            "25982e2391ffcd07.jpg  7ed876e7208b4132.jpg  ccece7b3a18d7a3c.jpg\n",
            "26e264a6467f4097.jpg  7edf029e84517dcb.jpg  cd3071ecef2cead1.jpg\n",
            "2713022b127af691.jpg  7ee40542dc6aac7d.jpg  ce0748617f099161.jpg\n",
            "27434d8d911570e9.jpg  7f0a8a133ba2f8e8.jpg  cf3c02a8e0f71c65.jpg\n",
            "2776f0517d548205.jpg  7f3bd82cca954180.jpg  cf6208d823d8ff13.jpg\n",
            "280ed37a069a2836.jpg  7f86b30bf0a46ba8.jpg  cf7e8f7323e63dbb.jpg\n",
            "28d14e509788aa3a.jpg  7fa59201cba8c84a.jpg  cf9b2d67ba4119e8.jpg\n",
            "28ef79fcb7ac9c4c.jpg  7fa7e12c9afa7052.jpg  cfc7a9c30e5490ae.jpg\n",
            "2914e5e1260409bb.jpg  7fc76017c591410c.jpg  cfc959f0580f8c4b.jpg\n",
            "291f99b14e10d0a7.jpg  7fcf9a1d07cbcf13.jpg  d15792fc63ee8558.jpg\n",
            "29377e75057b22b0.jpg  7fd7955c93352855.jpg  d16883553ffecfd6.jpg\n",
            "297dc9bda6170c85.jpg  80083d85866375e8.jpg  d194bf589d0cde7d.jpg\n",
            "298c7c5c9a25f105.jpg  80a49c802c6fbd9c.jpg  d24c46ca5429ddd2.jpg\n",
            "29a1de2d5e6d5a71.jpg  80f30558e579dc53.jpg  d33607c536a8bfaa.jpg\n",
            "2a695944263837c2.jpg  80f812baee412f57.jpg  d36ae708c9264850.jpg\n",
            "2aae609c19143514.jpg  81067ccd99f0db7c.jpg  d36e39d921c93d38.jpg\n",
            "2ab17daae21ba415.jpg  818e6dafe9313e6c.jpg  d393494e7af89d67.jpg\n",
            "2abfa05f9efe1bc3.jpg  81a10760f10c5be0.jpg  d3abdabd4e79e17f.jpg\n",
            "2b002294ececbe82.jpg  81ee33ae6bdccb42.jpg  d42012f6997d7437.jpg\n",
            "2b23136107204be0.jpg  823955db297f1603.jpg  d4459c9fc5568cb3.jpg\n",
            "2b38fc89c8056aa2.jpg  826ae03814202146.jpg  d46c36f3f16f8fd7.jpg\n",
            "2b6deefb6c5bfab6.jpg  828970dba91fab15.jpg  d52dbd7259c2e935.jpg\n",
            "2c2c933dfdcfd0f0.jpg  828ae35ae0463594.jpg  d5996f6184980ccb.jpg\n",
            "2c44ade4354b38f0.jpg  829ebe46c4af7626.jpg  d601c04827d28037.jpg\n",
            "2c916dadf61dabfa.jpg  82d7c9e440530abc.jpg  d60d270e2afb4979.jpg\n",
            "2cbc2b04392629ce.jpg  836fb2a6675d2b18.jpg  d63fb440d4bbcb0b.jpg\n",
            "2d07c2b77a06c8f1.jpg  83793920a30ebf72.jpg  d655c96e805e8bec.jpg\n",
            "2dbb4a546d107596.jpg  83912107a2296daf.jpg  d669289271087715.jpg\n",
            "2de010e926530457.jpg  83d17bbfe92fddfc.jpg  d716f8370c1c802b.jpg\n",
            "2de53f585b5c6291.jpg  8406c9fd282438e7.jpg  d727ff2a48da277b.jpg\n",
            "2e3fae9a18aec5c4.jpg  84922760939d422c.jpg  d74c28a72a9304b4.jpg\n",
            "2e69523c967a51a4.jpg  84c975e74cbad548.jpg  d79c34fd21aba44c.jpg\n",
            "2e7177f70adc3d71.jpg  84d619a632d63c8d.jpg  d8d07ade31eb5e45.jpg\n",
            "2e9ef29b90ecc8f0.jpg  85449e14ff174af7.jpg  d928cea1d98d4135.jpg\n",
            "2f25b6ca91e196d4.jpg  854609241dfb0333.jpg  d92b166fe93d053d.jpg\n",
            "2f7c03db215fdb3f.jpg  855b559ead0ae4f6.jpg  d97a991bad41341b.jpg\n",
            "2fb5c7002a7f978a.jpg  8572a4694e10bdff.jpg  d9cac3c78fddcc46.jpg\n",
            "3005d45b97ca98c8.jpg  85bdb356240134a7.jpg  da1132df42fcb0dd.jpg\n",
            "3056b78597b7b78f.jpg  85f0f6bb4e0131b1.jpg  da4a51933298aa58.jpg\n",
            "30bb04ef133e5305.jpg  8620973215805e23.jpg  da5aba90702e5a5a.jpg\n",
            "30f84e37a10eef77.jpg  8622b5dac1f9f20c.jpg  da8a6f0fae5a71a2.jpg\n",
            "30fdee3e9fc7ed42.jpg  8648fd49f80446d6.jpg  daaee1d1ffd908ce.jpg\n",
            "3122dcc3b237fc0d.jpg  865da0dc1a4fd22f.jpg  db0aa73332ef2c41.jpg\n",
            "3144e795491d4445.jpg  8707842d1e5f70fc.jpg  db347261c64e913a.jpg\n",
            "3163d42b59864792.jpg  87b34fde0bbbb17f.jpg  db94c5baedd763f7.jpg\n",
            "3206f61d421d5175.jpg  87bb9ae43ad0afe3.jpg  db972ebdcef0274e.jpg\n",
            "3243be36d50751e6.jpg  87bfd09319b28504.jpg  dc9b4f6407c3d1c2.jpg\n",
            "3305f65ed601766d.jpg  87d38203581b3767.jpg  dcab9066ab6a5607.jpg\n",
            "334f941ad201a761.jpg  87de929138ff2178.jpg  dd3b32308fda11b2.jpg\n",
            "339de7dac192137b.jpg  886eeec3611645a9.jpg  dddb42229af8b339.jpg\n",
            "340d1a8dfac947dd.jpg  88f67ad589d52444.jpg  dddbc4b0c6dddcb8.jpg\n",
            "34b96473f8caea33.jpg  892030c5c844e28f.jpg  de6e5fb80f7b4895.jpg\n",
            "350b8a0a5243f48e.jpg  8951eb7cddabe6a0.jpg  dea0a9a646a6f805.jpg\n",
            "351ea1a156b82a06.jpg  89a79124d4139fdc.jpg  deca90eda497c5eb.jpg\n",
            "3520c6729cc39251.jpg  89b57b2b249103fe.jpg  decbe34584bd5959.jpg\n",
            "352d8f39c28cb1cf.jpg  89fa6f7ab53dcbfa.jpg  dee88c8f14a9696f.jpg\n",
            "35a2a6ac625bea9e.jpg  8a4c542ecd86220c.jpg  df90a5f50fa8471e.jpg\n",
            "35db680dbbcd737b.jpg  8a543342265ee069.jpg  dfcd36f44d410f21.jpg\n",
            "360fbcecdf089b17.jpg  8ac2130fbe2bba71.jpg  dff3b54b6fd22b75.jpg\n",
            "363cad7966dac647.jpg  8ac980ec749b2b4b.jpg  e02f59b6a2773791.jpg\n",
            "36505f3f7388a3ad.jpg  8b46171e5088df44.jpg  e04375a5fe025c76.jpg\n",
            "3665de390578df06.jpg  8b4ef1a9cc85fd0e.jpg  e0b750343625094c.jpg\n",
            "368367c96a7c7ce5.jpg  8b653dd8366d1e1a.jpg  e12b3a315462794a.jpg\n",
            "36a1b06c688b0b84.jpg  8ba6eeb22e61fdd0.jpg  e12d9bfc58902413.jpg\n",
            "36d2eb6dd0a12b5c.jpg  8bb592f5e0680b53.jpg  e13538ad0bb90e4f.jpg\n",
            "371f6dfa9ea14bf7.jpg  8c2503d7913d50e2.jpg  e15a2771f1ded329.jpg\n",
            "37582ddb036e5ec7.jpg  8c3c43f9ce862281.jpg  e183168cdfb58e2e.jpg\n",
            "37c44170042cf1f5.jpg  8cae39ef0c53b5e8.jpg  e1c839f764c885f2.jpg\n",
            "382df52778e3c110.jpg  8d14ac13e59f1bf5.jpg  e1e46103f28239a3.jpg\n",
            "3862911036f3f486.jpg  8d648b6a5bb481f5.jpg  e24830241f9b12b1.jpg\n",
            "38de684d7fd86ab9.jpg  8d7a28224bb400ea.jpg  e2c22594a4de9fcf.jpg\n",
            "38e8a885bf9f916c.jpg  8d8512800a6aab2c.jpg  e32a908fdad2f1f1.jpg\n",
            "3911aab8a9b78187.jpg  8db9e9ee1e9c6310.jpg  e33d77ed38aad4a1.jpg\n",
            "391f4f4c9f3ded16.jpg  8df08ad869709fe6.jpg  e376474dcd67bde7.jpg\n",
            "392e6b761ab8cafa.jpg  8e0bf196a1d6120d.jpg  e37a97d7217787d7.jpg\n",
            "39905156c187fe12.jpg  8e44a17b49cb0717.jpg  e3aa972e89ce2c9f.jpg\n",
            "3a0b7e7e2e531aae.jpg  8eb9f4f21d09c0d6.jpg  e404440a5bfead11.jpg\n",
            "3a577f33aa764b7e.jpg  8eeeb6607f0eaff5.jpg  e43da253fe97b5f0.jpg\n",
            "3a66e87b42711a7b.jpg  8f8ed017c890530e.jpg  e4d0beaa566bb9d0.jpg\n",
            "3ab18a26d2178c04.jpg  8fb3310b6259d3f0.jpg  e4ff57c038aaed99.jpg\n",
            "3af664c2699a77e7.jpg  8fb9b4da8909179d.jpg  e52e8463db05b619.jpg\n",
            "3b305c3a05025eb3.jpg  8fc4341386833b01.jpg  e56fd6fd92ec7672.jpg\n",
            "3b505c92c5acd9cd.jpg  8fc468c49597b1f8.jpg  e5727ac5ffbf0810.jpg\n",
            "3b66497e7f223d3f.jpg  8ff2937c7a887939.jpg  e5d0f21152c3c4c1.jpg\n",
            "3baf33d3d764d910.jpg  901f4525eb36d98f.jpg  e601fce5afb965ae.jpg\n",
            "3bc250dcf07fc386.jpg  9038555d78d712e2.jpg  e63bd46c55e829c0.jpg\n",
            "3c0e899b612491b4.jpg  9038cbdaf15128b1.jpg  e6409c0bf89037de.jpg\n",
            "3c4b62437451c47c.jpg  90ea3e851c8732f8.jpg  e67581fc8b5ed694.jpg\n",
            "3c86721a78362182.jpg  91004c878ec3e2b2.jpg  e6d63e1977f6aabb.jpg\n",
            "3caa0f34a4b1a1d0.jpg  910325aa1519b2d1.jpg  e700e6a464d9c3a2.jpg\n",
            "3cd400ea445039df.jpg  91a3c4029d18abbd.jpg  e7fe4a111571786f.jpg\n",
            "3d03aa3bba9b3c0c.jpg  91b71b1d45acfef9.jpg  e82996f4c8f6911d.jpg\n",
            "3ddb4f4a94a92988.jpg  92082ed6d200d1eb.jpg  e87afb3ecee2860e.jpg\n",
            "3dec55a91b478708.jpg  92391c6e3be05f05.jpg  e88d0feb9771f3d6.jpg\n",
            "3e3d3426a8ac4458.jpg  924acceede931d9e.jpg  e8a117aeabce43d9.jpg\n",
            "3e6f948f17abfbf8.jpg  9253675cafc1dfca.jpg  e8c5179dfc7038ab.jpg\n",
            "3e92b754355af10a.jpg  92711e4ffbde375e.jpg  e90820609fd0a75e.jpg\n",
            "3ed82a098449793b.jpg  92838520daa9d0f8.jpg  e94ef8c9366afd05.jpg\n",
            "3f0e4db4482b3544.jpg  936649983c2dc128.jpg  e95c1be583157fa3.jpg\n",
            "3fb62b3d3e3fda43.jpg  940a9c9bef7d9db6.jpg  e972fcc1f9f5a01c.jpg\n",
            "3ffb2a674f39dced.jpg  947a3c8360e3e7ee.jpg  ea1e8db988a6a3fe.jpg\n",
            "4005eadcac9bb765.jpg  94b7c308dc175f2f.jpg  ea877e8726a84da0.jpg\n",
            "400a87d9250b0c3a.jpg  9532400d126b1ac7.jpg  eaa5824697efe2e0.jpg\n",
            "4017af4cae5552ef.jpg  9633efd8f654dd0a.jpg  eb191614783f1b44.jpg\n",
            "40319f3418bcd730.jpg  965c1713addf0ff6.jpg  eb2d6e48e709582b.jpg\n",
            "4070a38ce3131150.jpg  9689384e6be6b968.jpg  ebbb944829f9b060.jpg\n",
            "40994ce88c5132ed.jpg  96bcb13a19a8a0cd.jpg  ebd4c736b45e7a96.jpg\n",
            "40cbbea350ddbf3c.jpg  96ee339ace0bdabb.jpg  ebe09d6f01ee765e.jpg\n",
            "40e83356c487cd7a.jpg  96f68506a03f14d3.jpg  ece0a381620fcb90.jpg\n",
            "416e308754b5bd6d.jpg  970feeb3662294d4.jpg  eda836d5fae8ea1b.jpg\n",
            "4182da0e8167421d.jpg  9735462d2bcc8dac.jpg  edaf9f9e0f628b5a.jpg\n",
            "42069c962fc9a7e0.jpg  979523cf3fcffda4.jpg  eddfe21663b4423e.jpg\n",
            "420b647746a9ba50.jpg  97a07c999cec2a81.jpg  ee2ae61736a11f8e.jpg\n",
            "425ef4d0e1923135.jpg  97c03dda2abea572.jpg  eef47bb845ecd444.jpg\n",
            "426789a2884e3186.jpg  97f51a9bccd50dd0.jpg  ef15fd6ddd44c713.jpg\n",
            "42b15ba564dfc572.jpg  9815dece5f23f810.jpg  efaaad70cbbd88d8.jpg\n",
            "42c4662d46192051.jpg  986d4ee4a7181282.jpg  f0310b6c96cdd646.jpg\n",
            "42e5105f424e81cb.jpg  98760ba4a3c5c2da.jpg  f0d47f5ddb53cd08.jpg\n",
            "434b19d70efe2453.jpg  98a357d75447ec69.jpg  f0f5f2c9ca0b8f5c.jpg\n",
            "43bd04e0afa98555.jpg  98b3894381bf8646.jpg  f147a3adfe36a1c4.jpg\n",
            "43e9ad07af8dab06.jpg  98d4604c448bb98d.jpg  f1cfc605502e5f37.jpg\n",
            "4599127b102232d9.jpg  98d7f9fd7bc452e5.jpg  f1db91a000f8fb85.jpg\n",
            "45a3c6d57c01a257.jpg  99284545a58c6ec9.jpg  f201a7a2d9ea9095.jpg\n",
            "45ab984c469aeb10.jpg  99d47ddb3ec837ff.jpg  f295b0ba7c283690.jpg\n",
            "45d921bc5f434402.jpg  99f6d2aa49a39ac5.jpg  f2e45da6abc5892e.jpg\n",
            "462437112d9808c5.jpg  9a01b34d9cbc797e.jpg  f3802e929bad0821.jpg\n",
            "463b421d41244c47.jpg  9a69c2fb5bbf29fc.jpg  f3f9bdd0ad9ce07a.jpg\n",
            "464d3ed0cb04a00e.jpg  9a69e9827d350ff2.jpg  f3fbf342487be677.jpg\n",
            "464fe69901b44286.jpg  9b065432e50194c1.jpg  f4195d431b32160f.jpg\n",
            "4679df1a22909dfe.jpg  9b0a5b78d8247807.jpg  f41fb2963a9702fb.jpg\n",
            "46a3feb071075a04.jpg  9b2689456105a83a.jpg  f440b19398c9af2f.jpg\n",
            "46c288e5322f49a8.jpg  9b3c4d1b3ac53d73.jpg  f446e1227c6de3a8.jpg\n",
            "46df66e8e5915189.jpg  9b3d29a7a46750d7.jpg  f47880cf32b9f9db.jpg\n",
            "46fa0b25b1f0f9e1.jpg  9b4cba2cba252f7a.jpg  f49f9adc293f33eb.jpg\n",
            "46fd6dddf9663046.jpg  9b9ba36c7b0191eb.jpg  f59be0186c5f2cf0.jpg\n",
            "46fe5ef12ca3aa33.jpg  9c473ce801b74c45.jpg  f6263d03df3c9e33.jpg\n",
            "47a487b37aaa9077.jpg  9d3eb0f50b909136.jpg  f631f8781d02db41.jpg\n",
            "488212b4ed5fa755.jpg  9d59c6030858ba1e.jpg  f6fd3d3420c46ac9.jpg\n",
            "48997532d8dc37df.jpg  9d741a935e429c48.jpg  f7a8b270d954c917.jpg\n",
            "489ea1908dc4c957.jpg  9dce4f107c8630f8.jpg  f7d4859548375706.jpg\n",
            "495f133da61cb030.jpg  9dd6a802faa034b8.jpg  f7fb4ca88754c850.jpg\n",
            "4961f1434bbae4d4.jpg  9dd79856ee487ece.jpg  f86016451f553914.jpg\n",
            "497c28a498501acd.jpg  9de49abcc782887f.jpg  f8c1c91a7f1eb5e8.jpg\n",
            "49a2ca69bf814196.jpg  9de7cf1293b8f32d.jpg  f9e0817caf159d0a.jpg\n",
            "4a28958c527aff70.jpg  9e8d555895eccefb.jpg  fad00c2874fa9cf3.jpg\n",
            "4aa3d27fee406632.jpg  9eb5097c0b88629b.jpg  fafd921447a0aa2d.jpg\n",
            "4b01d36d051c10a5.jpg  9eb83ecdecaf5d6e.jpg  fb11b227ad0ade70.jpg\n",
            "4b2f2b787e17a6fb.jpg  9ef65ce983856fed.jpg  fb863929e37b900a.jpg\n",
            "4b4d2988aa51f735.jpg  9f4837741da496ba.jpg  fc22563f91bee657.jpg\n",
            "4b7f2b926d19de9c.jpg  9f8622f76f193091.jpg  fc29456551a889d5.jpg\n",
            "4b9ee0827e9b1fbe.jpg  9fe7697b0276c47d.jpg  fc32268c20e46462.jpg\n",
            "4ba4b7b9dcd549ae.jpg  a01ccaa1c4f46afe.jpg  fc4d8478ca0bea3c.jpg\n",
            "4bc70e167f4af585.jpg  a048d01013a2920c.jpg  fc9ae5aebf6b3371.jpg\n",
            "4bc999fe7d3e86b6.jpg  a064b1190835ce59.jpg  fd46fce7c6d448a5.jpg\n",
            "4c7fd79e1b59cbf4.jpg  a0658b2953f5ea6b.jpg  fe2912ff1742b6fa.jpg\n",
            "4d47a1c3a3f7f2a2.jpg  a0a636d19cf64733.jpg  fe61d9ee940458b8.jpg\n",
            "4d5ddce220de1c31.jpg  a0a833c9eae8aada.jpg  fea07643c0bf7a4d.jpg\n",
            "4db897e2c8b69e1f.jpg  a13a433a0a81ca8d.jpg  ff2623d19cdad715.jpg\n",
            "4dbabec409cd4ffb.jpg  a1ea4cd479c8626a.jpg  ff9ca989fdfca753.jpg\n",
            "4df37f35b238243d.jpg  a1f7bf649c10c995.jpg  ffa946b12c0c9728.jpg\n",
            "4e16c786cc59609e.jpg  a2219fe6e7cda613.jpg\n",
            "4e73ba89c5568071.jpg  a25a94cdf70a2d2c.jpg\n"
          ],
          "name": "stdout"
        }
      ]
    },
    {
      "cell_type": "code",
      "metadata": {
        "id": "p0bRAa45V8-G",
        "colab_type": "code",
        "colab": {}
      },
      "source": [
        ""
      ],
      "execution_count": 0,
      "outputs": []
    }
  ]
}